{
 "cells": [
  {
   "cell_type": "code",
   "execution_count": 5,
   "metadata": {},
   "outputs": [
    {
     "name": "stdout",
     "output_type": "stream",
     "text": [
      "df1: \n",
      "     fruit  weight  price\n",
      "0   apple    high      6\n",
      "1  banana  medium     14\n",
      "2  orange     low      6\n",
      "3   apple    high      2\n",
      "4  banana  medium      9\n",
      "5  orange     low     11\n",
      "6   apple    high     14\n",
      "7  banana  medium      4\n",
      "8  orange     low      4\n",
      "df2: \n",
      "     fruit weight  price\n",
      "0   apple   high      5\n",
      "1  orange    low      6\n",
      "2    pine   high      2\n",
      "3   apple    low      5\n",
      "4  orange   high      5\n",
      "5    pine    low      1\n"
     ]
    }
   ],
   "source": [
    "\"\"\"\n",
    "請接下列資料依照指定規則做合併：\n",
    "- 依照 fruit 欄位做合併\n",
    "- 依照 index 索引做合併\n",
    "[簡答題] 承上題，請問為什麼依照 merge 合併後有些資料不見了？\n",
    "[簡答題] 承上題，請問為什麼依照 index 合併會發生錯誤？請用程式解決。\n",
    "\"\"\"\n",
    "import numpy as np\n",
    "import pandas as pd\n",
    "df1 = pd.DataFrame({\n",
    "    'fruit': ['apple', 'banana', 'orange'] * 3,\n",
    "    'weight': ['high', 'medium', 'low'] * 3,\n",
    "    'price': np.random.randint(0, 15, 9)\n",
    "})\n",
    "\n",
    "df2 = pd.DataFrame({\n",
    "    'fruit': ['apple', 'orange', 'pine'] * 2,\n",
    "    'weight': ['high', 'low'] * 3,\n",
    "    'price': np.random.randint(0, 15, 6)\n",
    "})\n",
    "print('df1: \\n', df1)\n",
    "print('df2: \\n', df2)"
   ]
  },
  {
   "cell_type": "code",
   "execution_count": 12,
   "metadata": {},
   "outputs": [
    {
     "name": "stdout",
     "output_type": "stream",
     "text": [
      "     fruit weight_x  price_x weight_y  price_y\n",
      "0    apple     high        6     high        5\n",
      "1    apple     high        6      low        5\n",
      "2    apple     high        2     high        5\n",
      "3    apple     high        2      low        5\n",
      "4    apple     high       14     high        5\n",
      "5    apple     high       14      low        5\n",
      "6   orange      low        6      low        6\n",
      "7   orange      low        6     high        5\n",
      "8   orange      low       11      low        6\n",
      "9   orange      low       11     high        5\n",
      "10  orange      low        4      low        6\n",
      "11  orange      low        4     high        5\n",
      "當使用merge的時候，預設為 how = \"inner\"，資料內容相同的就會被合併，重複的資料就會被消除\n",
      "因為兩個 Data Frame 有重複的欄位名稱，將重複的欄位分別命名成新欄位即可\n",
      "  fruit_df1 weight_df1  price_df1 fruit_df2 weight_df2  price_df2\n",
      "0     apple       high          6     apple       high        5.0\n",
      "1    banana     medium         14    orange        low        6.0\n",
      "2    orange        low          6      pine       high        2.0\n",
      "3     apple       high          2     apple        low        5.0\n",
      "4    banana     medium          9    orange       high        5.0\n",
      "5    orange        low         11      pine        low        1.0\n",
      "6     apple       high         14       NaN        NaN        NaN\n",
      "7    banana     medium          4       NaN        NaN        NaN\n",
      "8    orange        low          4       NaN        NaN        NaN\n"
     ]
    }
   ],
   "source": [
    "#請接下列資料依照指定規則做合併：\n",
    "#- 依照 fruit 欄位做合併\n",
    "print(pd.merge(df1,df2, on='fruit'))\n",
    "#- 依照 index 索引做合併\n",
    "#print(df1.join(df2)) -> 錯誤\n",
    "\n",
    "#[簡答題] 承上題，請問為什麼依照 merge 合併後有些資料不見了？\n",
    "print('當使用merge的時候，預設為 how = \"inner\"，資料內容相同的就會被合併，重複的資料就會被消除')\n",
    "#[簡答題] 承上題，請問為什麼依照 index 合併會發生錯誤？請用程式解決。\n",
    "print('因為兩個 Data Frame 有重複的欄位名稱，將重複的欄位分別命名成新欄位即可')\n",
    "q3 = df1.join(df2, lsuffix='_df1', rsuffix='_df2') #把欄位都心命名\n",
    "print(q3)\n"
   ]
  },
  {
   "cell_type": "code",
   "execution_count": null,
   "metadata": {},
   "outputs": [],
   "source": []
  }
 ],
 "metadata": {
  "kernelspec": {
   "display_name": "Python 3",
   "language": "python",
   "name": "python3"
  },
  "language_info": {
   "codemirror_mode": {
    "name": "ipython",
    "version": 3
   },
   "file_extension": ".py",
   "mimetype": "text/x-python",
   "name": "python",
   "nbconvert_exporter": "python",
   "pygments_lexer": "ipython3",
   "version": "3.8.5"
  }
 },
 "nbformat": 4,
 "nbformat_minor": 4
}
