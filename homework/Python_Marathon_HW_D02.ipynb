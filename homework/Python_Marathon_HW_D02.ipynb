{
 "cells": [
  {
   "cell_type": "code",
   "execution_count": 2,
   "metadata": {},
   "outputs": [
    {
     "name": "stdout",
     "output_type": "stream",
     "text": [
      "Requirement already satisfied: numpy in c:\\users\\sonof\\anaconda3\\lib\\site-packages (1.19.2)\n"
     ]
    },
    {
     "data": {
      "text/plain": [
       "'1.19.2'"
      ]
     },
     "execution_count": 2,
     "metadata": {},
     "output_type": "execute_result"
    }
   ],
   "source": [
    "!pip3 install numpy \n",
    "\n",
    "#安裝 NumPy\n",
    "\"\"\"安裝Numpy 可以用\n",
    "1) !pip install numpy\n",
    "2) !pip3 install numpy\n",
    "3) 在 Anaconda 環境下的話, 執行 conda install numpy\n",
    "\"\"\"\n",
    "import numpy as np # 載入 NumPy\n",
    "np.__version__ #目前安裝的 NumPy 版本"
   ]
  },
  {
   "cell_type": "code",
   "execution_count": 1,
   "metadata": {},
   "outputs": [
    {
     "data": {
      "text/plain": [
       "\"\\n1. [簡答題] 請問 type(...) 跟 a.dtype 這兩個語法有什麼不同？\\nprint('type(a): ', type(a))\\nprint('a.dtype: ', a.dtype)\\n\""
      ]
     },
     "execution_count": 1,
     "metadata": {},
     "output_type": "execute_result"
    }
   ],
   "source": [
    "\"\"\"\n",
    "1. [簡答題] 請問 type(...) 跟 a.dtype 這兩個語法有什麼不同？\n",
    "print('type(a): ', type(a))\n",
    "print('a.dtype: ', a.dtype)\n",
    "\"\"\""
   ]
  },
  {
   "cell_type": "code",
   "execution_count": 4,
   "metadata": {},
   "outputs": [
    {
     "name": "stdout",
     "output_type": "stream",
     "text": [
      "[ 2  4  6  8 10]\n"
     ]
    }
   ],
   "source": [
    "# linspace: 起始 and 結束都必須要輸入\n",
    "# nump.linspace(start, stop, num=50, endpoint=True, retstep=False, dtype=None, axis=0)\n",
    "\"\"\"\n",
    "i=np.arange(2,10,2)\n",
    "print(i)\n",
    "\n",
    "j=np.linspace(2,10,num=4, endpoint=False)\n",
    "print(j)\n",
    "\"\"\"\n",
    "\n",
    "a = np.linspace (2,10, num=5, endpoint=True, dtype = 'int64')\n",
    "print (a)"
   ]
  },
  {
   "cell_type": "code",
   "execution_count": 5,
   "metadata": {},
   "outputs": [
    {
     "name": "stdout",
     "output_type": "stream",
     "text": [
      "<class 'numpy.ndarray'>\n"
     ]
    }
   ],
   "source": [
    "print(type (a))"
   ]
  },
  {
   "cell_type": "code",
   "execution_count": 8,
   "metadata": {},
   "outputs": [
    {
     "name": "stdout",
     "output_type": "stream",
     "text": [
      "int64\n"
     ]
    }
   ],
   "source": [
    "print(a.dtype)"
   ]
  },
  {
   "cell_type": "code",
   "execution_count": null,
   "metadata": {},
   "outputs": [],
   "source": [
    "\"\"\"\n",
    "第二題: 請撰寫一個判斷 a 的元素是否等於指定資料型態的函式，並且通過測試。\n",
    "a = np.random.randint(10, size=6) \n",
    "\n",
    "# 測試一\n",
    "print(is_dtype(a, 'int')) # True\n",
    "\n",
    "# 測試二\n",
    "print(is_dtype(a, np.int)) # True\n",
    "\n",
    "# 測試三\n",
    "print(is_dtype(a, np.dtype('int'))) # True\n",
    "\n",
    "\"\"\""
   ]
  },
  {
   "cell_type": "code",
   "execution_count": 13,
   "metadata": {},
   "outputs": [
    {
     "name": "stdout",
     "output_type": "stream",
     "text": [
      "[7 3 7 9 7 9 3]\n",
      "int32\n"
     ]
    }
   ],
   "source": [
    "q2 = np.random.randint(10, size=7)\n",
    "print(q2)\n",
    "print(q2.dtype)"
   ]
  },
  {
   "cell_type": "code",
   "execution_count": 24,
   "metadata": {},
   "outputs": [
    {
     "name": "stdout",
     "output_type": "stream",
     "text": [
      "True\n",
      "True\n",
      "True\n"
     ]
    }
   ],
   "source": [
    "import numpy as np\n",
    "q2 = np.random.randint(10, size=7)\n",
    "def is_dtype(q2, t):\n",
    "    return q2.dtype is np.dtype(t)\n",
    "\n",
    "print(is_dtype(q2, 'int'))\n",
    "print(is_dtype(q2, np.int))\n",
    "print(is_dtype(q2, np.dtype('int')))\n"
   ]
  },
  {
   "cell_type": "code",
   "execution_count": 20,
   "metadata": {},
   "outputs": [
    {
     "data": {
      "text/plain": [
       "'\\n[簡答題] 承上題，請判斷下列三種寫法為何不正確？\\ndef is_dtype(a, t):\\n    return a.dtype is t\\n\\ndef is_dtype(a, t):\\n    return type(a) == np.dtype(t)\\n\\ndef is_dtype(a, t):\\n    return type(a) is np.dtype(t)\\n'"
      ]
     },
     "execution_count": 20,
     "metadata": {},
     "output_type": "execute_result"
    }
   ],
   "source": [
    "\"\"\"\n",
    "[簡答題] 承上題，請判斷下列三種寫法為何不正確？\n",
    "def is_dtype(a, t):\n",
    "    return a.dtype is t\n",
    "\n",
    "def is_dtype(a, t):\n",
    "    return type(a) == np.dtype(t)\n",
    "\n",
    "def is_dtype(a, t):\n",
    "    return type(a) is np.dtype(t)\n",
    "\"\"\""
   ]
  },
  {
   "cell_type": "code",
   "execution_count": 26,
   "metadata": {},
   "outputs": [],
   "source": [
    "def is_dtype(a, t):\n",
    "    return a.dtype is t\n",
    "\n",
    "def is_dtype(a, t):\n",
    "    return type(a) == np.dtype(t)\n",
    "\n",
    "def is_dtype(a, t):\n",
    "    return type(a) is np.dtype(t)\n",
    "\n",
    "#ANS: type() 是檢查變數的型態，而不是元素的型態； is 相對 == 更嚴格，一定要型態正確才會回傳 True"
   ]
  },
  {
   "cell_type": "code",
   "execution_count": null,
   "metadata": {},
   "outputs": [],
   "source": []
  }
 ],
 "metadata": {
  "kernelspec": {
   "display_name": "Python 3",
   "language": "python",
   "name": "python3"
  },
  "language_info": {
   "codemirror_mode": {
    "name": "ipython",
    "version": 3
   },
   "file_extension": ".py",
   "mimetype": "text/x-python",
   "name": "python",
   "nbconvert_exporter": "python",
   "pygments_lexer": "ipython3",
   "version": "3.8.5"
  }
 },
 "nbformat": 4,
 "nbformat_minor": 4
}
