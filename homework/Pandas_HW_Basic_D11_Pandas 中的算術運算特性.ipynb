{
 "cells": [
  {
   "cell_type": "code",
   "execution_count": 36,
   "metadata": {},
   "outputs": [
    {
     "data": {
      "text/plain": [
       "'\\n- 計算每個不同種類 animal 的 age 的平均數\\n- 計算每個不同種類 animal 的 age 的平均數\\n- 將資料依照 Age 欄位由小到大排序，再依照 visits 欄位由大到小排序\\n- 將 priority 欄位中的 yes 和 no 字串，換成是布林值 的 True 和 False\\n'"
      ]
     },
     "execution_count": 36,
     "metadata": {},
     "output_type": "execute_result"
    }
   ],
   "source": [
    "\"\"\"\n",
    "data = {\n",
    "    'animal': ['cat', 'cat', 'snake', 'dog', 'dog', 'cat', 'snake', 'cat', 'dog', 'dog'],\n",
    "    'age': [2.5, 3, 0.5, np.nan, 5, 2, 4.5, np.nan, 7, 3],\n",
    "    'visits': [1, 3, 2, 3, 2, 3, 1, 1, 2, 1],\n",
    "    'priority': ['yes', 'yes', 'no', 'yes', 'no', 'no', 'no', 'yes', 'no', 'no']\n",
    "}\n",
    "\n",
    "labels = ['a', 'b', 'c', 'd', 'e', 'f', 'g', 'h', 'i', 'j']\n",
    "df = pd.DataFrame(data, index=labels)\n",
    "\"\"\"\n",
    "\"\"\"\n",
    "- 計算每個不同種類 animal 的 age 的平均數\n",
    "- 計算每個不同種類 animal 的 age 的平均數\n",
    "- 將資料依照 Age 欄位由小到大排序，再依照 visits 欄位由大到小排序\n",
    "- 將 priority 欄位中的 yes 和 no 字串，換成是布林值 的 True 和 False\n",
    "\"\"\""
   ]
  },
  {
   "cell_type": "code",
   "execution_count": 37,
   "metadata": {},
   "outputs": [
    {
     "name": "stdout",
     "output_type": "stream",
     "text": [
      "  animal  age  visits priority\n",
      "a    cat  2.5       1      yes\n",
      "b    cat  3.0       3      yes\n",
      "c  snake  0.5       2       no\n",
      "d    dog  NaN       3      yes\n",
      "e    dog  5.0       2       no\n",
      "f    cat  2.0       3       no\n",
      "g  snake  4.5       1       no\n",
      "h    cat  NaN       1      yes\n",
      "i    dog  7.0       2       no\n",
      "j    dog  3.0       1       no\n",
      "age_mean: 3.4375\n",
      "cat data: \n",
      "   animal  age  visits priority\n",
      "a    cat  2.5       1      yes\n",
      "b    cat  3.0       3      yes\n",
      "f    cat  2.0       3       no\n",
      "h    cat  NaN       1      yes\n",
      "cat_age_avg: 2.5\n",
      "set: \n",
      " {'dog', 'snake', 'cat'}\n",
      "dog _age_avg : 5.0\n",
      "snake _age_avg : 2.5\n",
      "cat _age_avg : 2.5\n",
      "q2: \n",
      "   animal  age  visits priority\n",
      "f    cat  2.0       3       no\n",
      "b    cat  3.0       3      yes\n",
      "d    dog  NaN       3      yes\n",
      "c  snake  0.5       2       no\n",
      "e    dog  5.0       2       no\n",
      "i    dog  7.0       2       no\n",
      "a    cat  2.5       1      yes\n",
      "j    dog  3.0       1       no\n",
      "g  snake  4.5       1       no\n",
      "h    cat  NaN       1      yes\n",
      "q3: \n",
      "   animal  age  visits priority\n",
      "a    cat  2.5       1     True\n",
      "b    cat  3.0       3     True\n",
      "c  snake  0.5       2    False\n",
      "d    dog  NaN       3     True\n",
      "e    dog  5.0       2    False\n",
      "f    cat  2.0       3    False\n",
      "g  snake  4.5       1    False\n",
      "h    cat  NaN       1     True\n",
      "i    dog  7.0       2    False\n",
      "j    dog  3.0       1    False\n"
     ]
    }
   ],
   "source": [
    "import numpy as np\n",
    "import pandas as pd\n",
    "\n",
    "#import data\n",
    "data = {\n",
    "    'animal': ['cat', 'cat', 'snake', 'dog', 'dog', 'cat', 'snake', 'cat', 'dog', 'dog'],\n",
    "    'age': [2.5, 3, 0.5, np.nan, 5, 2, 4.5, np.nan, 7, 3],\n",
    "    'visits': [1, 3, 2, 3, 2, 3, 1, 1, 2, 1],\n",
    "    'priority': ['yes', 'yes', 'no', 'yes', 'no', 'no', 'no', 'yes', 'no', 'no']\n",
    "}\n",
    "\n",
    "labels = ['a', 'b', 'c', 'd', 'e', 'f', 'g', 'h', 'i', 'j']\n",
    "df = pd.DataFrame(data, index=labels)\n",
    "print(df)\n",
    "\n",
    "\"\"\" q1 - 計算每個不同種類 animal 的 age 的平均數 \"\"\"\n",
    "\n",
    "age_mean = df.age.mean(axis=0) #Pandas 統計函式中有參數 axis=0 為行運算，axis=1 為列運算\n",
    "print('age_mean:', age_mean)\n",
    "\n",
    "cat = df[df.animal == 'cat']\n",
    "print('cat data: \\n', cat)\n",
    "print('cat_age_avg:', cat.age.mean(axis=0))\n",
    "\n",
    "# 這裡利用 for loop, in pandas\n",
    "    # for loops\n",
    "    # set也稱作集合，以樣使用{}宣告與dict不同的是沒有Key僅存放值，其主要目的是為了數學上有關集合的算法為主\n",
    "animal = set(df.animal)\n",
    "print('set: \\n', animal)\n",
    "q1=[] #先設定一個新的\n",
    "for i in set(df.animal): #要改成 set, 因為是要 '可以針對 Iterable(可疊代的)物件來進行讀取'\n",
    "    q1 = df[df.animal == i]\n",
    "    print(i,'_age_avg :', q1.age.mean(axis=0))\n",
    "\n",
    "\"\"\" q2 - 將資料依照 Age 欄位由小到大排序，再依照 visits 欄位由大到小排序 \"\"\"\n",
    "q2_age = df.sort_values(by=['age'])\n",
    "q2 = q2_age.sort_values(by=['visits'], ascending=False) #ascending = False, 由大到小排序\n",
    "print('q2: \\n', q2)\n",
    "\n",
    "\"\"\" q3 - 將 priority 欄位中的 yes 和 no 字串，換成是布林值 的 True 和 False \"\"\"\n",
    "# 語法.str.replace(因為這裡要 resplace 的是字串 string)\n",
    "q3 = df #怕洗掉, 創一個新的 q3\n",
    "q3['priority'] = q3['priority'].str.replace('yes', 'True') #在q3 的 priority, 用後面的取代前面的\n",
    "q3['priority'] = q3['priority'].str.replace('no', 'False')\n",
    "print('q3: \\n', q3)\n"
   ]
  },
  {
   "cell_type": "code",
   "execution_count": 38,
   "metadata": {},
   "outputs": [
    {
     "data": {
      "text/plain": [
       "'\\n#2 一個包含兩個欄位的 DataFrame，將每個數字減去\\n該欄位的平均數\\n該筆資料平均數\\ndf = pd.DataFrame(np.random.random(size=(5, 3)))\\n'"
      ]
     },
     "execution_count": 38,
     "metadata": {},
     "output_type": "execute_result"
    }
   ],
   "source": [
    "\"\"\"\n",
    "#2 一個包含兩個欄位的 DataFrame，將每個數字減去\n",
    "該欄位的平均數\n",
    "該筆資料平均數\n",
    "df = pd.DataFrame(np.random.random(size=(5, 3)))\n",
    "\"\"\""
   ]
  },
  {
   "cell_type": "code",
   "execution_count": 39,
   "metadata": {
    "scrolled": true
   },
   "outputs": [
    {
     "name": "stdout",
     "output_type": "stream",
     "text": [
      "          0         1         2\n",
      "0  0.865031  0.690094  0.339071\n",
      "1  0.227314  0.180649  0.323839\n",
      "2  0.983485  0.726093  0.199532\n",
      "3  0.118192  0.891402  0.021949\n",
      "4  0.036358  0.482499  0.330535\n",
      "mean: \n",
      " 0    0.446076\n",
      "1    0.594148\n",
      "2    0.242985\n",
      "dtype: float64\n"
     ]
    }
   ],
   "source": [
    "import numpy as np\n",
    "import pandas as pd\n",
    "\n",
    "df2 = pd.DataFrame(np.random.random(size=(5,3)))\n",
    "print(df2)\n",
    "print('mean: \\n', df2.mean(axis=0)) #Pandas 統計函式中有參數 axis=0 為行運算，axis=1 為列運算\n"
   ]
  },
  {
   "cell_type": "code",
   "execution_count": 54,
   "metadata": {},
   "outputs": [
    {
     "name": "stdout",
     "output_type": "stream",
     "text": [
      "ANS1: \n",
      "           0         1         2\n",
      "0 -0.037340 -0.008902 -0.456442\n",
      "1  0.412429 -0.054714  0.344692\n",
      "2 -0.061648 -0.072443  0.334306\n",
      "3  0.124713  0.351353 -0.130705\n",
      "4 -0.438153 -0.215294 -0.091850\n",
      "all data mean: \n",
      " 0.5507628803399497\n",
      "ANS2: \n",
      "           0         1         2\n",
      "0 -0.089858  0.082272 -0.495099\n",
      "1  0.359912  0.036461  0.306036\n",
      "2 -0.114166  0.018731  0.295649\n",
      "3  0.072195  0.442527 -0.169362\n",
      "4 -0.490671 -0.124120 -0.130507\n",
      "df2: \n",
      "           0         1         2\n",
      "0  0.912189  0.034039  0.167024\n",
      "1  0.731100  0.090941  0.586050\n",
      "2  0.795759  0.081615  0.274933\n",
      "3  0.469936  0.385084  0.991686\n",
      "4  0.489157  0.280467  0.397987\n",
      "data_min: 1\n",
      "column_sum_value:\n",
      " 0    3.398140\n",
      "1    0.872147\n",
      "2    2.417680\n",
      "dtype: float64\n",
      "column_min_索引: 1\n"
     ]
    }
   ],
   "source": [
    "# 將每個數字減去該欄位的平均數\n",
    "# lambda + apply 的用法\n",
    "func = lambda i: i-i.mean(axis=0)\n",
    "print('ANS1: \\n', df2.apply(func))\n",
    "\n",
    "# 將每個數字減去該筆資料平均數\n",
    "print('all data mean: \\n', df2.stack().mean())\n",
    "func2 = lambda i: i-df2.stack().mean()\n",
    "print('ANS2: \\n', df2.apply(func2))\n",
    "\n",
    "# 呈上題\n",
    "df2 = pd.DataFrame(np.random.random(size=(5,3)))\n",
    "print('df2: \\n', df2)\n",
    "#Pandas 統計函式中有參數 axis=0 為行運算，axis=1 為列運算\n",
    "# 哪一比的資料總合最小\n",
    "data_min = df2.sum().argmin() #sum() 沒有寫就是全部, #argmin 是回傳 \"索引\"\n",
    "print('data_min:', data_min)\n",
    "\n",
    "# 哪一欄位的資料總合最小\n",
    "column_min = df2.sum(axis=0).argmin()\n",
    "print('column_sum_value:\\n',df2.sum(axis=0))\n",
    "print('column_min_索引:',column_min)\n",
    "\n"
   ]
  },
  {
   "cell_type": "code",
   "execution_count": null,
   "metadata": {},
   "outputs": [],
   "source": []
  }
 ],
 "metadata": {
  "kernelspec": {
   "display_name": "Python 3",
   "language": "python",
   "name": "python3"
  },
  "language_info": {
   "codemirror_mode": {
    "name": "ipython",
    "version": 3
   },
   "file_extension": ".py",
   "mimetype": "text/x-python",
   "name": "python",
   "nbconvert_exporter": "python",
   "pygments_lexer": "ipython3",
   "version": "3.8.5"
  }
 },
 "nbformat": 4,
 "nbformat_minor": 4
}
