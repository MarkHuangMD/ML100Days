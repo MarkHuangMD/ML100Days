{
 "cells": [
  {
   "cell_type": "code",
   "execution_count": 3,
   "metadata": {},
   "outputs": [
    {
     "name": "stdout",
     "output_type": "stream",
     "text": [
      "Requirement already satisfied: numpy in c:\\users\\sonof\\anaconda3\\lib\\site-packages (1.19.2)\n"
     ]
    },
    {
     "data": {
      "text/plain": [
       "'1.19.2'"
      ]
     },
     "execution_count": 3,
     "metadata": {},
     "output_type": "execute_result"
    }
   ],
   "source": [
    "!pip3 install numpy \n",
    "\n",
    "#安裝 NumPy\n",
    "\"\"\"安裝Numpy 可以用\n",
    "1) !pip install numpy\n",
    "2) !pip3 install numpy\n",
    "3) 在 Anaconda 環境下的話, 執行 conda install numpy\n",
    "\"\"\"\n",
    "import numpy as np # 載入 NumPy\n",
    "np.__version__ #目前安裝的 NumPy 版本"
   ]
  },
  {
   "cell_type": "code",
   "execution_count": 4,
   "metadata": {},
   "outputs": [
    {
     "name": "stdout",
     "output_type": "stream",
     "text": [
      "[ 0  1  2  3  4  5  6  7  8  9 10 11 12 13 14 15 16 17 18 19 20]\n"
     ]
    }
   ],
   "source": [
    "# 題目 1.生成一個等差數列，首數為0，尾數為20，公差為1的數列\n",
    "\n",
    "\"\"\"\n",
    "語法: 產生陣列\n",
    "nump.linspace (start, stop, num=50, endpoint=True, reestep=False, dtype='None', axis=0)\n",
    "endpoint: 就是要不要有包含最後 stop 的值\n",
    "restep: 就是要不要顯示間隔值的值\n",
    "dtype =int8,int16, int32, int64, float16, float32, float64, float128\n",
    "\"\"\"\n",
    "\n",
    "Q01 = np.linspace (0,20,num=21, endpoint=True, dtype='int64')\n",
    "print(Q01)"
   ]
  },
  {
   "cell_type": "code",
   "execution_count": 5,
   "metadata": {},
   "outputs": [
    {
     "data": {
      "text/plain": [
       "array([ 0,  2,  4,  6,  8, 10, 12, 14, 16, 18, 20], dtype=int64)"
      ]
     },
     "execution_count": 5,
     "metadata": {},
     "output_type": "execute_result"
    }
   ],
   "source": [
    "# 題目 2.呈上題，將以上數列取出偶數\n",
    "\n",
    "\"\"\"\n",
    "語法: NumPy 陣列的索引和切片(就是找出來), Slicing\n",
    "[start:stop:step]\n",
    "step就是間隔值\n",
    "\"\"\"\n",
    "\n",
    "Q01[::2] #p.s. 如果start和stop值都沒有給 → 就是都取出\n"
   ]
  },
  {
   "cell_type": "code",
   "execution_count": 7,
   "metadata": {},
   "outputs": [
    {
     "data": {
      "text/plain": [
       "array([ 3,  6,  9, 12, 15, 18], dtype=int64)"
      ]
     },
     "execution_count": 7,
     "metadata": {},
     "output_type": "execute_result"
    }
   ],
   "source": [
    "# 題目 3.呈1題，將數列取出3的倍數。\n",
    "\n",
    "\"\"\"\n",
    "語法: NumPy 陣列的索引和切片(就是找出來), Slicing\n",
    "[start:stop:step]\n",
    "step就是間隔值\n",
    "\"\"\"\n",
    "\n",
    "Q01[3::3]"
   ]
  },
  {
   "cell_type": "code",
   "execution_count": null,
   "metadata": {},
   "outputs": [],
   "source": []
  },
  {
   "cell_type": "code",
   "execution_count": null,
   "metadata": {},
   "outputs": [],
   "source": []
  },
  {
   "cell_type": "code",
   "execution_count": null,
   "metadata": {},
   "outputs": [],
   "source": []
  }
 ],
 "metadata": {
  "kernelspec": {
   "display_name": "Python 3",
   "language": "python",
   "name": "python3"
  },
  "language_info": {
   "codemirror_mode": {
    "name": "ipython",
    "version": 3
   },
   "file_extension": ".py",
   "mimetype": "text/x-python",
   "name": "python",
   "nbconvert_exporter": "python",
   "pygments_lexer": "ipython3",
   "version": "3.8.5"
  }
 },
 "nbformat": 4,
 "nbformat_minor": 4
}
