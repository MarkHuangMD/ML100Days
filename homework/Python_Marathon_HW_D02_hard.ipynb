{
 "cells": [
  {
   "cell_type": "code",
   "execution_count": 17,
   "metadata": {},
   "outputs": [
    {
     "data": {
      "text/plain": [
       "'\\nD02 進階題\\n作業目標\\n熟悉陣列維度轉換，並且會擷取需要資料\\n作業重點\\n使用reshap須注意order用法\\nwhere可以運用邏輯條件擷取資料\\n\\n題目:\\n1.將下列陣列(array1)，轉成維度為(5X6)的array，順序按列填充。(hint:order=\"F\")\\n2.呈上題的array，找出被6除餘1的數的索引\\n\\n#1.將下列清單(list1)，轉成維度為(5X6)的array，順序按列填充。(hint:order=\"F\")\\narray1 = np.array(range(30))\\n\\n#2.呈上題的array，找出被6除餘1的數的索引\\n'"
      ]
     },
     "execution_count": 17,
     "metadata": {},
     "output_type": "execute_result"
    }
   ],
   "source": [
    "\"\"\"\n",
    "D02 進階題\n",
    "作業目標\n",
    "熟悉陣列維度轉換，並且會擷取需要資料\n",
    "作業重點\n",
    "使用reshap須注意order用法\n",
    "where可以運用邏輯條件擷取資料\n",
    "\n",
    "題目:\n",
    "1.將下列陣列(array1)，轉成維度為(5X6)的array，順序按列填充。(hint:order=\"F\")\n",
    "2.呈上題的array，找出被6除餘1的數的索引\n",
    "\n",
    "#1.將下列清單(list1)，轉成維度為(5X6)的array，順序按列填充。(hint:order=\"F\")\n",
    "array1 = np.array(range(30))\n",
    "\n",
    "#2.呈上題的array，找出被6除餘1的數的 \"索引\"\n",
    "\"\"\""
   ]
  },
  {
   "cell_type": "code",
   "execution_count": 18,
   "metadata": {},
   "outputs": [
    {
     "name": "stdout",
     "output_type": "stream",
     "text": [
      "[ 0  1  2  3  4  5  6  7  8  9 10 11 12 13 14 15 16 17 18 19 20 21 22 23\n",
      " 24 25 26 27 28 29]\n"
     ]
    }
   ],
   "source": [
    "import numpy as np\n",
    "\n",
    "array1 = np.array (range(30))\n",
    "print(array1)\n"
   ]
  },
  {
   "cell_type": "code",
   "execution_count": 19,
   "metadata": {},
   "outputs": [
    {
     "name": "stdout",
     "output_type": "stream",
     "text": [
      "[[ 0  5 10 15 20 25]\n",
      " [ 1  6 11 16 21 26]\n",
      " [ 2  7 12 17 22 27]\n",
      " [ 3  8 13 18 23 28]\n",
      " [ 4  9 14 19 24 29]]\n"
     ]
    }
   ],
   "source": [
    "# key: C 的意義是 C-style，展開時是以 row 為主的順序展開；而 F 是 Fortran-style，展開時是以 column 為主的順序展開\n",
    "\n",
    "array2 = array1.reshape((5, 6), order = \"F\") # F 是 Fortran-style，展開時是以 column 為主的順序展開\n",
    "print(array2)"
   ]
  },
  {
   "cell_type": "code",
   "execution_count": 20,
   "metadata": {},
   "outputs": [
    {
     "name": "stdout",
     "output_type": "stream",
     "text": [
      "[ 0  5 10 15 20 25  1  6 11 16 21 26  2  7 12 17 22 27  3  8 13 18 23 28\n",
      "  4  9 14 19 24 29]\n"
     ]
    }
   ],
   "source": [
    "array3 = array2.flatten() #變成扁平一維的 xdd\n",
    "print(array3)\n"
   ]
  },
  {
   "cell_type": "code",
   "execution_count": 25,
   "metadata": {},
   "outputs": [
    {
     "name": "stdout",
     "output_type": "stream",
     "text": [
      "[ 0  1  2  3  4  5  6  7  8  9 10 11 12 13 14 15 16 17 18 19 20 21 22 23\n",
      " 24 25 26 27 28 29]\n"
     ]
    }
   ],
   "source": [
    "\"\"\"\n",
    "# 排序的語法\n",
    "# 要對陣列進行排序可以使用 sort() 與 argsort()，\n",
    "# 兩者的差異是在 sort() 回傳的是排序後的陣列，而 argsort() 回傳的是排序後的陣列索引值。\n",
    "numpy.sort(a, axis=-1, kind=None, order=None)\tndarray.sort()\n",
    "numpy.argsort(a, axis=-1, kind=None, order=None)\tndarray.argsort()\n",
    "\n",
    "np.random.seed(3)\n",
    "a = np.random.randint(0, 20, 10)\n",
    "a\n",
    "np.sort(a)\n",
    "a.argsort()\n",
    "a.sort()\n",
    "a\n",
    "\"\"\"\n",
    "array4 = np.sort(array3)\n",
    "print(array4)"
   ]
  },
  {
   "cell_type": "code",
   "execution_count": 21,
   "metadata": {},
   "outputs": [
    {
     "data": {
      "text/plain": [
       "(array([0, 1, 2, 3, 4], dtype=int64), array([5, 0, 1, 2, 3], dtype=int64))"
      ]
     },
     "execution_count": 21,
     "metadata": {},
     "output_type": "execute_result"
    }
   ],
   "source": [
    "# 5.3 找出符合條件的元素：\n",
    "# 語法： numpy.where(condition[, x, y])\n",
    "# 題目: #2.呈上題的array，找出被6除餘1的數的索引\n",
    "\n",
    "np.where (array2%6 == 1)\n",
    "# 記得要一起看, array2 的 [0,5]=25, [1,0]=1\n",
    "# 所以這個方法是找出 \"索引\" 而非 \"索引的值\""
   ]
  },
  {
   "cell_type": "code",
   "execution_count": 23,
   "metadata": {},
   "outputs": [
    {
     "data": {
      "text/plain": [
       "(array([ 5,  6, 13, 20, 27], dtype=int64),)"
      ]
     },
     "execution_count": 23,
     "metadata": {},
     "output_type": "execute_result"
    }
   ],
   "source": [
    "np.where (array3%6 ==1) # %就是餘數的\n",
    "# 是指這個陣列的 所以 5 是25"
   ]
  },
  {
   "cell_type": "code",
   "execution_count": 26,
   "metadata": {},
   "outputs": [
    {
     "data": {
      "text/plain": [
       "(array([ 1,  7, 13, 19, 25], dtype=int64),)"
      ]
     },
     "execution_count": 26,
     "metadata": {},
     "output_type": "execute_result"
    }
   ],
   "source": [
    "np.where (array4%6 ==1)\n",
    "# 所以會發現有排列真的比較容易看"
   ]
  },
  {
   "cell_type": "code",
   "execution_count": null,
   "metadata": {},
   "outputs": [],
   "source": []
  },
  {
   "cell_type": "code",
   "execution_count": null,
   "metadata": {},
   "outputs": [],
   "source": []
  }
 ],
 "metadata": {
  "kernelspec": {
   "display_name": "Python 3",
   "language": "python",
   "name": "python3"
  },
  "language_info": {
   "codemirror_mode": {
    "name": "ipython",
    "version": 3
   },
   "file_extension": ".py",
   "mimetype": "text/x-python",
   "name": "python",
   "nbconvert_exporter": "python",
   "pygments_lexer": "ipython3",
   "version": "3.8.5"
  }
 },
 "nbformat": 4,
 "nbformat_minor": 4
}
