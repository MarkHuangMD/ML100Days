{
 "cells": [
  {
   "cell_type": "code",
   "execution_count": 9,
   "metadata": {},
   "outputs": [
    {
     "name": "stdout",
     "output_type": "stream",
     "text": [
      "boston_data: \n",
      "      CHAS    NOX     RM\n",
      "0     0.0  0.538  6.575\n",
      "1     0.0  0.469  6.421\n",
      "2     0.0  0.469  7.185\n",
      "3     0.0  0.458  6.998\n",
      "4     0.0  0.458  7.147\n",
      "..    ...    ...    ...\n",
      "501   0.0  0.573  6.593\n",
      "502   0.0  0.573  6.120\n",
      "503   0.0  0.573  6.976\n",
      "504   0.0  0.573  6.794\n",
      "505   0.0  0.573  6.030\n",
      "\n",
      "[506 rows x 3 columns]\n"
     ]
    }
   ],
   "source": [
    "\"\"\"\n",
    "讀取資料夾中 boston.csv 讀取其欄位 CHAS、NOX、RM，輸出成.xlsx檔案\n",
    "\"\"\"\n",
    "import numpy as np\n",
    "import pandas as pd\n",
    "\n",
    "#STEP 01 先把要讀取的檔案放到一樣階層的資料夾裡面\n",
    "#利用 usecols 指定要讀取的欄位\n",
    "boston_data = pd.read_csv ('boston.csv', usecols=['CHAS','NOX','RM'])\n",
    "print('boston_data: \\n', boston_data)\n",
    "\n",
    "#輸出成.xlsx檔案\n",
    "boston_data.to_excel('new_boston.xlsx', sheet_name='表單名字') #sheet_name 可以給名字\n",
    "#傻眼輸出以後真的有耶嚇死"
   ]
  },
  {
   "cell_type": "code",
   "execution_count": 4,
   "metadata": {},
   "outputs": [
    {
     "name": "stdout",
     "output_type": "stream",
     "text": [
      "df1: \n",
      "            PID  ST_NUM     ST_NAME OWN_OCCUPIED NUM_BEDROOMS NUM_BATH SQ_FT\n",
      "0  100001000.0   104.0      PUTNAM            Y            3        1  1000\n",
      "1  100002000.0   197.0   LEXINGTON            N            3      1.5    --\n",
      "2  100003000.0     NaN   LEXINGTON            N          NaN        1   850\n",
      "3  100004000.0   201.0    BERKELEY           12            1      NaN   700\n",
      "4          NaN   203.0    BERKELEY            Y            3        2  1600\n",
      "5  100006000.0   207.0    BERKELEY            Y          NaN        1   800\n",
      "6  100007000.0     NaN  WASHINGTON          NaN            2   HURLEY   950\n",
      "7  100008000.0   213.0     TREMONT            Y            1        1   NaN\n",
      "8  100009000.0   215.0     TREMONT            Y           na        2  1800\n",
      "df2: \n",
      "            PID  ST_NUM     ST_NAME OWN_OCCUPIED  NUM_BEDROOMS NUM_BATH   SQ_FT\n",
      "0  100001000.0   104.0      PUTNAM            Y           3.0        1  1000.0\n",
      "1  100002000.0   197.0   LEXINGTON            N           3.0      1.5     NaN\n",
      "2  100003000.0     NaN   LEXINGTON            N           NaN        1   850.0\n",
      "3  100004000.0   201.0    BERKELEY           12           1.0      NaN   700.0\n",
      "4          NaN   203.0    BERKELEY            Y           3.0        2  1600.0\n",
      "5  100006000.0   207.0    BERKELEY            Y           NaN        1   800.0\n",
      "6  100007000.0     NaN  WASHINGTON          NaN           2.0   HURLEY   950.0\n",
      "7  100008000.0   213.0     TREMONT            Y           1.0        1     NaN\n",
      "8  100009000.0   215.0     TREMONT            Y           NaN        2  1800.0\n",
      "程式會以預設的 NaN 值做判斷，但 na、-- 不在預設的範圍內所以沒有被轉換，所以df2用na_values額外定義 NaN 值做遺漏值處理\n"
     ]
    }
   ],
   "source": [
    "\"\"\"\n",
    "1. [簡答題] 比較下列兩個讀入的 df 有什麼不同？為什麼造成的？\n",
    "\"\"\"\n",
    "import numpy as np\n",
    "import pandas as pd\n",
    "df1 = pd.read_csv('https://raw.githubusercontent.com/dataoptimal/posts/master/data%20cleaning%20with%20python%20and%20pandas/property%20data.csv')\n",
    "print('df1: \\n', df1)\n",
    "\n",
    "df2 = pd.read_csv(\n",
    "    'https://raw.githubusercontent.com/dataoptimal/posts/master/data%20cleaning%20with%20python%20and%20pandas/property%20data.csv',\n",
    "    keep_default_na=True,\n",
    "    na_values=['na', '--']\n",
    ")\n",
    "print('df2: \\n', df2)\n",
    "print('程式會以預設的 NaN 值做判斷，但 na、-- 不在預設的範圍內所以沒有被轉換，所以df2用na_values額外定義 NaN 值做遺漏值處理')"
   ]
  },
  {
   "cell_type": "code",
   "execution_count": 8,
   "metadata": {},
   "outputs": [
    {
     "name": "stdout",
     "output_type": "stream",
     "text": [
      "                                       id         alias name  \\\n",
      "373  1ce3ebca-8701-42d5-b14c-076fc629bc8e           sex   西斯   \n",
      "228  42851318-b9e2-4a75-8a05-9fe180becefe  relationship   感情   \n",
      "224  be1a095b-175e-4523-9e06-66a05d939676       dressup   穿搭   \n",
      "217  cbd5285f-3cba-4bfc-86d0-1ab52d201459        makeup   美妝   \n",
      "273  de977130-f3eb-467b-822e-b0e91124e9eb          food   美食   \n",
      "\n",
      "                                           description  subscriptionCount  \\\n",
      "373  西斯板（Sex）提供男女私密話題分享或性教育等情慾議題討論，若有性方面相關問題也可在此發問。...             551101   \n",
      "228  無論是遠距離戀愛、情侶間的有趣互動、分手後的藕斷絲連等...都可以在感情板分享你們的愛情故事...             483707   \n",
      "224  穿搭板提供各種服裝搭配、包鞋、飾品配件等相關話題討論。\\n歡迎分享自己的日常穿搭，或任何潮流...             468910   \n",
      "217  不管你喜歡開架彩妝還是專櫃彩妝，美妝板提供各種最新彩妝開箱評比、粉底色號、唇膏試色、眼影試色...             388287   \n",
      "273              美食板歡迎分享各種吃貨食記心得，或提供手搖飲料、校園美食、美食情報等文章！             324397   \n",
      "\n",
      "     subscribed   read                 createdAt                 updatedAt  \\\n",
      "373       False  False  2020-02-04T07:52:53.573Z  2021-04-20T08:36:40.534Z   \n",
      "228       False  False  2020-02-04T07:28:43.573Z  2021-04-20T08:36:40.391Z   \n",
      "224       False  False  2020-02-04T07:28:03.573Z  2021-04-20T08:36:37.330Z   \n",
      "217       False  False  2020-02-04T07:26:53.573Z  2021-04-20T08:36:35.733Z   \n",
      "273       False  False  2020-02-04T07:36:13.573Z  2021-04-20T08:36:35.879Z   \n",
      "\n",
      "     canPost  ...                                             topics   nsfw  \\\n",
      "373    False  ...  [A片, 甲, 小熊貝爾, Les, 無碼片, NTR, 內射, 自慰, 3P, 外流, 意...   True   \n",
      "228    False  ...  [微西斯, 愛情, 閃光, 價值觀, 告白, 分手, 遠距離, 失戀, 曖昧, 做愛, 在一...  False   \n",
      "224    False  ...  [蝦皮, 耳環, 襯衫, 工裝, 後背包, 寬褲, 淘寶, 涼鞋, 洋裝, 情侶穿搭, 鞋子...  False   \n",
      "217    False  ...  [防曬, 粉餅, 受受狼, 刷具, 遮瑕, 粉刺, 打亮, 眼影, 粉底, 眉筆, 粉底液,...  False   \n",
      "273    False  ...  [台中美食, 高雄美食, 台南美食, 台北美食, 新竹美食, 板橋美食, 全聯, 711, ...  False   \n",
      "\n",
      "                             mediaThreshold  limitCountries  limitStage  \\\n",
      "373  {'RACY': 1, 'ADULT': 1, 'VIOLENCE': 1}              []           0   \n",
      "228                                      {}              []           0   \n",
      "224                                      {}              []           0   \n",
      "217                                      {}              []           0   \n",
      "273                                      {}              []           0   \n",
      "\n",
      "                  availableLayouts             postCount  favorite  \\\n",
      "373                      [classic]  {'last30Days': 4331}     False   \n",
      "228                      [classic]  {'last30Days': 9365}     False   \n",
      "224                [classic, link]  {'last30Days': 1369}     False   \n",
      "217                      [classic]  {'last30Days': 2913}     False   \n",
      "273  [classic, link, image, video]  {'last30Days': 1712}     False   \n",
      "\n",
      "                                             heroImage  \\\n",
      "373  {'url': 'https://megapx-assets.dcard.tw/images...   \n",
      "228  {'url': 'https://megapx-assets.dcard.tw/images...   \n",
      "224  {'url': 'https://megapx-assets.dcard.tw/images...   \n",
      "217  {'url': 'https://megapx-assets.dcard.tw/images...   \n",
      "273  {'url': 'https://megapx-assets.dcard.tw/images...   \n",
      "\n",
      "                                                  logo  \n",
      "373  {'url': 'https://megapx-assets.dcard.tw/images...  \n",
      "228  {'url': 'https://megapx-assets.dcard.tw/images...  \n",
      "224  {'url': 'https://megapx-assets.dcard.tw/images...  \n",
      "217  {'url': 'https://megapx-assets.dcard.tw/images...  \n",
      "273  {'url': 'https://megapx-assets.dcard.tw/images...  \n",
      "\n",
      "[5 rows x 33 columns]\n"
     ]
    }
   ],
   "source": [
    "\"\"\"\n",
    "請將 Dcard API 取得所有的看板資訊轉換成 DataFrame，並且依照熱門程度排序後存成一個 csv 的檔案\n",
    "\"\"\"\n",
    "#learning requests, API...\n",
    "#learning josn 格式\n",
    "import requests\n",
    "r = requests.get('https://www.dcard.tw/_api/forums')\n",
    "response = r.text\n",
    "\n",
    "import json\n",
    "data = json.loads(response)\n",
    "\n",
    "df=pd.DataFrame(data)\n",
    "df=df.sort_values(by=['subscriptionCount'], ascending = False)\n",
    "df.head(5)\n",
    "print (df.head(5)) #只顯示前面5行\n",
    "\n",
    "df.to_csv('DCARD', index = False) #通常都會 index = False"
   ]
  },
  {
   "cell_type": "code",
   "execution_count": null,
   "metadata": {},
   "outputs": [],
   "source": []
  },
  {
   "cell_type": "code",
   "execution_count": null,
   "metadata": {},
   "outputs": [],
   "source": []
  },
  {
   "cell_type": "code",
   "execution_count": null,
   "metadata": {},
   "outputs": [],
   "source": []
  },
  {
   "cell_type": "code",
   "execution_count": null,
   "metadata": {},
   "outputs": [],
   "source": []
  },
  {
   "cell_type": "code",
   "execution_count": null,
   "metadata": {},
   "outputs": [],
   "source": []
  }
 ],
 "metadata": {
  "kernelspec": {
   "display_name": "Python 3",
   "language": "python",
   "name": "python3"
  },
  "language_info": {
   "codemirror_mode": {
    "name": "ipython",
    "version": 3
   },
   "file_extension": ".py",
   "mimetype": "text/x-python",
   "name": "python",
   "nbconvert_exporter": "python",
   "pygments_lexer": "ipython3",
   "version": "3.8.5"
  }
 },
 "nbformat": 4,
 "nbformat_minor": 4
}
