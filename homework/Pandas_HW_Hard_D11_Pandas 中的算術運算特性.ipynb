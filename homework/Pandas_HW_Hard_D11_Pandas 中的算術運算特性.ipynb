{
 "cells": [
  {
   "cell_type": "code",
   "execution_count": null,
   "metadata": {},
   "outputs": [],
   "source": [
    "\"\"\"\n",
    "題目\n",
    "對以下成績資料做分析\n",
    "\n",
    "6號學生(student_id=6)3科平均分數為何?\n",
    "6號學生3科平均分數是否有贏過班上一半的同學?\n",
    "由於班上同學成績不好，所以學校統一加分，加分方式為開根號乘以十，請問6號同學3科成績分別是?\n",
    "承上題，加分後各科班平均變多少?\n",
    "score_df = pd.DataFrame\n",
    "([[1,56,66,70], [2,90,45,34], [3,45,32,55], [4,70,77,89], [5,56,80,70], [6,60,54,55], [7,45,70,79], \n",
    "[8,34,77,76], [9,25,87,60], [10,88,40,43]],\n",
    "columns=['student_id','math_score','english_score','chinese_score'])\n",
    "\"\"\""
   ]
  },
  {
   "cell_type": "code",
   "execution_count": 8,
   "metadata": {},
   "outputs": [
    {
     "name": "stdout",
     "output_type": "stream",
     "text": [
      "score:\n",
      "    student_id  math_score  english_score  chinese_score\n",
      "0           1          56             66             70\n",
      "1           2          90             45             34\n",
      "2           3          45             32             55\n",
      "3           4          70             77             89\n",
      "4           5          56             80             70\n",
      "5           6          60             54             55\n",
      "6           7          45             70             79\n",
      "7           8          34             77             76\n",
      "8           9          25             87             60\n",
      "9          10          88             40             43\n",
      "new data: \n",
      "             math_score  english_score  chinese_score\n",
      "student_id                                          \n",
      "1                   56             66             70\n",
      "2                   90             45             34\n",
      "3                   45             32             55\n",
      "4                   70             77             89\n",
      "5                   56             80             70\n",
      "6                   60             54             55\n",
      "7                   45             70             79\n",
      "8                   34             77             76\n",
      "9                   25             87             60\n",
      "10                  88             40             43\n",
      "student6:\n",
      "    student_id  math_score  english_score  chinese_score\n",
      "5           6          60             54             55\n"
     ]
    }
   ],
   "source": [
    "import numpy as np\n",
    "import pandas as pd\n",
    "\n",
    "# import data\n",
    "score_df = pd.DataFrame ([[1,56,66,70], [2,90,45,34], [3,45,32,55], [4,70,77,89], [5,56,80,70], [6,60,54,55], [7,45,70,79], \n",
    "[8,34,77,76], [9,25,87,60], [10,88,40,43]], columns=['student_id','math_score','english_score','chinese_score'])\n",
    "\n",
    "print('score:\\n', score_df)\n",
    "\n",
    "#重新把 student_id 定義成 index 的 data\n",
    "score_df_new = score_df.set_index('student_id')\n",
    "print('new data: \\n', score_df_new)\n",
    "\n",
    "#6號學生(student_id=6)3科平均分數為何?\n",
    "student6 = score_df.loc[score_df['student_id']==6]\n",
    "print('student6:\\n', student6)\n"
   ]
  },
  {
   "cell_type": "code",
   "execution_count": 24,
   "metadata": {},
   "outputs": [
    {
     "name": "stdout",
     "output_type": "stream",
     "text": [
      "avg: \n",
      " student_id\n",
      "1     64.000000\n",
      "2     56.333333\n",
      "3     44.000000\n",
      "4     78.666667\n",
      "5     68.666667\n",
      "6     56.333333\n",
      "7     64.666667\n",
      "8     62.333333\n",
      "9     57.333333\n",
      "10    57.000000\n",
      "dtype: float64\n",
      "Ture/False for Q2: \n",
      " student_id\n",
      "1     False\n",
      "2     False\n",
      "3      True\n",
      "4     False\n",
      "5     False\n",
      "6     False\n",
      "7     False\n",
      "8     False\n",
      "9     False\n",
      "10    False\n",
      "dtype: bool\n",
      "number =  1\n"
     ]
    }
   ],
   "source": [
    "#6號學生3科平均分數是否有贏過班上一半的同學?\n",
    "print('avg: \\n', score_df_new.mean(axis=1))\n",
    "print('Ture/False for Q2: \\n', score_df_new.mean(axis=1) < score_df_new.mean(axis=1).loc[6] )\n",
    "print('number = ', sum(score_df_new.mean(axis=1) < score_df_new.mean(axis=1).loc[6]))"
   ]
  },
  {
   "cell_type": "code",
   "execution_count": 23,
   "metadata": {},
   "outputs": [
    {
     "name": "stdout",
     "output_type": "stream",
     "text": [
      "doublenewdata_:\n",
      "             math_score  english_score  chinese_score\n",
      "student_id                                          \n",
      "1            74.833148      81.240384      83.666003\n",
      "2            94.868330      67.082039      58.309519\n",
      "3            67.082039      56.568542      74.161985\n",
      "4            83.666003      87.749644      94.339811\n",
      "5            74.833148      89.442719      83.666003\n",
      "6            77.459667      73.484692      74.161985\n",
      "7            67.082039      83.666003      88.881944\n",
      "8            58.309519      87.749644      87.177979\n",
      "9            50.000000      93.273791      77.459667\n",
      "10           93.808315      63.245553      65.574385\n",
      "math_score       74.194221\n",
      "english_score    78.350301\n",
      "chinese_score    78.739928\n",
      "dtype: float64\n"
     ]
    }
   ],
   "source": [
    "# 由於班上同學成績不好，所以學校統一加分，加分方式為開根號乘以十，請問6號同學3科成績分別是?\n",
    "\n",
    "# lambda 的應用\n",
    "score_doublenew = score_df_new.apply(lambda i: i**(0.5)*10) #**(0.5) means 0.5 次\n",
    "print ('doublenewdata_:\\n', score_doublenew)\n",
    "# 承上題，加分後各科班平均變多少?\n",
    "print(score_doublenew.mean(axis=0)) #axis=0 行, axis =1 列"
   ]
  },
  {
   "cell_type": "code",
   "execution_count": null,
   "metadata": {},
   "outputs": [],
   "source": []
  }
 ],
 "metadata": {
  "kernelspec": {
   "display_name": "Python 3",
   "language": "python",
   "name": "python3"
  },
  "language_info": {
   "codemirror_mode": {
    "name": "ipython",
    "version": 3
   },
   "file_extension": ".py",
   "mimetype": "text/x-python",
   "name": "python",
   "nbconvert_exporter": "python",
   "pygments_lexer": "ipython3",
   "version": "3.8.5"
  }
 },
 "nbformat": 4,
 "nbformat_minor": 4
}
