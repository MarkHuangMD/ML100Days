{
 "cells": [
  {
   "cell_type": "code",
   "execution_count": 3,
   "metadata": {},
   "outputs": [
    {
     "name": "stdout",
     "output_type": "stream",
     "text": [
      "403\n",
      "403\n",
      "403\n"
     ]
    }
   ],
   "source": [
    "\"\"\"\n",
    "[簡答題] \n",
    "#1請問下列這三種方法有什麼不同？\n",
    "print(a.sum())\n",
    "print(np.sum(a))\n",
    "print(sum(a)) \n",
    "#2請對一個 5x5 的隨機矩陣作正規化的操作。\n",
    "#3請建立一個長度等於 10 的正整數向量，並且將其中的最大值改成 -1。\n",
    "\"\"\"\n",
    "import numpy as np\n",
    "english_score = np.array([55,89,76,65,48,70])\n",
    "math_score = np.array([60,85,60,68,55,60])\n",
    "chinese_score = np.array([65,90,82,72,66,77])\n",
    "\n",
    "print(english_score.sum())\n",
    "print(np.sum(english_score))\n",
    "print(sum(english_score)) \n",
    "\n",
    "## 一樣 都是 '加總'\n",
    "\"\"\"\n",
    "sum()為python內建的函式\n",
    "a.sum()和np.sum(a)為陣列才有的\n",
    "定義在np或是array下\n",
    "\"\"\"\n"
   ]
  },
  {
   "cell_type": "code",
   "execution_count": 20,
   "metadata": {},
   "outputs": [
    {
     "name": "stdout",
     "output_type": "stream",
     "text": [
      "[[12.51449034 16.20934102 12.72832439 19.74382457 16.91188564]\n",
      " [19.28038361 11.96101914 16.63425371 19.95213363 14.89793594]\n",
      " [10.40656875 15.49022017 13.75913699 16.97908716 14.59101655]\n",
      " [18.14242052 13.38026547 15.05964261 14.10896574 12.25272271]\n",
      " [15.77441482 12.28089363 18.77313097 17.24619888 19.53722162]]\n",
      "[[0.22082733 0.60790245 0.24322873 0.9781774  0.68150151]\n",
      " [0.929627   0.1628453  0.6524166  1.         0.47051874]\n",
      " [0.         0.53256685 0.35121738 0.68854159 0.43836565]\n",
      " [0.8104132  0.31152653 0.48745925 0.38786568 0.19340437]\n",
      " [0.56233928 0.19635558 0.87648686 0.7165244  0.95653353]]\n"
     ]
    }
   ],
   "source": [
    "#2請對一個 5x5 的隨機矩陣作正規化的操作。\n",
    "\"\"\"\n",
    "複習數學:\n",
    "正規矩陣: A*A' = A'*A\n",
    "\n",
    "常見的數據歸一化方法\n",
    "min-max標準化(Min-max normalization)/0-1標準化(0-1 normalization)\n",
    "也叫離差標準化，是對原始數據的線性變換，使結果落到[0,1]區間，轉換函數如下\n",
    "\n",
    "X' = (x-min) / max-min\n",
    "\"\"\"\n",
    "\n",
    "#normalization\n",
    "B = np.random.rand(5,5)\n",
    "q2=B*10+10 #\n",
    "print(q2)\n",
    "q2_max = np.max(q2)\n",
    "q2_min = np.min(q2)\n",
    "\n",
    "q2_normalization = (q2 - q2_min)/(q2_max - q2_min)\n",
    "print(q2_normalization)"
   ]
  },
  {
   "cell_type": "code",
   "execution_count": 139,
   "metadata": {},
   "outputs": [
    {
     "name": "stdout",
     "output_type": "stream",
     "text": [
      "[3 1 2 3 6 7 7 9 5 4]\n",
      "9\n",
      "7\n",
      "ANS: [9]\n",
      "正確答案: [ 3  1  2  3  6  7  7 -1  5  4]\n"
     ]
    }
   ],
   "source": [
    "#3請建立一個長度等於 10 的正整數向量，並且將其中的最大值改成 -1\n",
    "A = np.random.randint(1,10,10)\n",
    "print(A)\n",
    "MAX_A = np.max(A) #這個是值\n",
    "MAX_A_where= np.argmax(A) #這個是索引\n",
    "print(MAX_A)\n",
    "print(MAX_A_where) #means 第幾個\n",
    "\n",
    "ANS=[]\n",
    "for i in A:\n",
    "    if i >= MAX_A:\n",
    "        ANS.append(i)\n",
    "        A[MAX_A_where]=-1\n",
    "\n",
    "print('ANS:', ANS)\n",
    "print('正確答案:', A)"
   ]
  },
  {
   "cell_type": "code",
   "execution_count": null,
   "metadata": {},
   "outputs": [],
   "source": []
  }
 ],
 "metadata": {
  "kernelspec": {
   "display_name": "Python 3",
   "language": "python",
   "name": "python3"
  },
  "language_info": {
   "codemirror_mode": {
    "name": "ipython",
    "version": 3
   },
   "file_extension": ".py",
   "mimetype": "text/x-python",
   "name": "python",
   "nbconvert_exporter": "python",
   "pygments_lexer": "ipython3",
   "version": "3.8.5"
  }
 },
 "nbformat": 4,
 "nbformat_minor": 4
}
