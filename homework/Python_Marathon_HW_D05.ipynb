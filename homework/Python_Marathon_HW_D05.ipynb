{
 "cells": [
  {
   "cell_type": "code",
   "execution_count": 1,
   "metadata": {},
   "outputs": [
    {
     "data": {
      "text/plain": [
       "'\\nHW:\\n產生一個 1-11 的一維陣列，並且把 3-6 由正數變成負數。\\n試著從一個隨機陣列中，找出比 0.5 大的數有幾個？\\n'"
      ]
     },
     "execution_count": 1,
     "metadata": {},
     "output_type": "execute_result"
    }
   ],
   "source": [
    "\"\"\"\n",
    "HW:\n",
    "產生一個 1-11 的一維陣列，並且把 3-6 由正數變成負數。\n",
    "試著從一個隨機陣列中，找出比 0.5 大的數有幾個？\n",
    "\"\"\""
   ]
  },
  {
   "cell_type": "code",
   "execution_count": 32,
   "metadata": {},
   "outputs": [
    {
     "name": "stdout",
     "output_type": "stream",
     "text": [
      "a: [ 1  2  3  4  5  6  7  8  9 10 11]\n",
      "b: [3 4 5 6]\n",
      "c: [1, 2, -3, -4, -5, -6, 7, 8, 9, 10, 11]\n"
     ]
    }
   ],
   "source": [
    "#Q1: 產生一個 1-11 的一維陣列，並且把 3-6 由正數變成負數。\n",
    "import numpy as np\n",
    "a=np.linspace (1,11,num=11, endpoint=True, dtype='int64')\n",
    "print('a:', a)\n",
    "\n",
    "b= (a[(a<7) & (a>2)])\n",
    "print('b:', b)\n",
    "\n",
    "# 用迴圈寫 ya~\n",
    "c=[]\n",
    "for i in a:\n",
    "    if (i<7) & (i>2):\n",
    "        c.append(i*(-1))\n",
    "    else:\n",
    "        c.append(i*(1))\n",
    "print('c:', c)\n"
   ]
  },
  {
   "cell_type": "code",
   "execution_count": 43,
   "metadata": {},
   "outputs": [
    {
     "name": "stdout",
     "output_type": "stream",
     "text": [
      "q2_arr: [0.7870197  0.86709213 0.3204046  0.26576912 0.57171538 0.93180854\n",
      " 0.82528338 0.29807987 0.74797252 0.32351376]\n",
      "迴圈寫法: [0.7870197035549003, 0.8670921284165869, 0.5717153814217952, 0.9318085358543262, 0.8252833767432135, 0.7479725197227249]\n",
      "個數: 6\n",
      "[0.7870197  0.86709213 0.57171538 0.93180854 0.82528338 0.74797252]\n",
      "個數: 6\n"
     ]
    }
   ],
   "source": [
    "# Q2: 試著從一個隨機陣列中，找出比 0.5 大的數有幾個？\n",
    "\n",
    "q2_arr = np.random.rand(10)\n",
    "print('q2_arr:', q2_arr)\n",
    "\n",
    "#方法1: 用迴圈的寫法\n",
    "d=[]\n",
    "for i in q2_arr:\n",
    "    if i>0.5:\n",
    "        d.append(i)\n",
    "        \n",
    "print('迴圈寫法:', d)\n",
    "print('個數:', len(d)) #len 可以知道陣列的長度\n",
    "\n",
    "#方法2\n",
    "e=q2_arr[q2_arr>0.5]\n",
    "print(e)\n",
    "print('個數:', e.size) #size 可以算出個數"
   ]
  },
  {
   "cell_type": "code",
   "execution_count": null,
   "metadata": {},
   "outputs": [],
   "source": []
  }
 ],
 "metadata": {
  "kernelspec": {
   "display_name": "Python 3",
   "language": "python",
   "name": "python3"
  },
  "language_info": {
   "codemirror_mode": {
    "name": "ipython",
    "version": 3
   },
   "file_extension": ".py",
   "mimetype": "text/x-python",
   "name": "python",
   "nbconvert_exporter": "python",
   "pygments_lexer": "ipython3",
   "version": "3.8.5"
  }
 },
 "nbformat": 4,
 "nbformat_minor": 4
}
