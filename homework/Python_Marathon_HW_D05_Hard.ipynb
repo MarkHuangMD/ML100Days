{
 "cells": [
  {
   "cell_type": "code",
   "execution_count": 29,
   "metadata": {},
   "outputs": [
    {
     "data": {
      "text/plain": [
       "'\\n題目:\\nenglish_score = np.array([55,89,76,65,48,70])\\nmath_score = np.array([60,85,60,68,55,60])\\nchinese_score = np.array([65,90,82,72,66,77])\\n\\n上3列共六位同學的英文、數學、國文成績，\\n第一個元素代表第一位同學，舉例第一位同學英文55分、數學60分、國文65分，運用上列數據回答下列問題。\\n\\n有多少學生英文成績比數學成績高?\\n是否全班同學最高分都是國文?\\n'"
      ]
     },
     "execution_count": 29,
     "metadata": {},
     "output_type": "execute_result"
    }
   ],
   "source": [
    "\"\"\"\n",
    "題目:\n",
    "english_score = np.array([55,89,76,65,48,70])\n",
    "math_score = np.array([60,85,60,68,55,60])\n",
    "chinese_score = np.array([65,90,82,72,66,77])\n",
    "\n",
    "上3列共六位同學的英文、數學、國文成績，\n",
    "第一個元素代表第一位同學，舉例第一位同學英文55分、數學60分、國文65分，運用上列數據回答下列問題。\n",
    "\n",
    "有多少學生英文成績比數學成績高?\n",
    "是否全班同學最高分都是國文?\n",
    "\"\"\""
   ]
  },
  {
   "cell_type": "code",
   "execution_count": 2,
   "metadata": {},
   "outputs": [
    {
     "name": "stdout",
     "output_type": "stream",
     "text": [
      "[('', 0, 0, 0) ('', 0, 0, 0) ('', 0, 0, 0) ('', 0, 0, 0) ('', 0, 0, 0)\n",
      " ('', 0, 0, 0)]\n",
      "[('name', '<U8'), ('en_score', '<i8'), ('math_score', '<i8'), ('ch_score', '<i8')]\n",
      "[('Ant', 55, 60, 65) ('Banana', 89, 85, 90) ('Carrot', 76, 60, 82)\n",
      " ('Dog', 65, 68, 72) ('Egg', 48, 55, 66) ('Frog', 70, 60, 77)]\n"
     ]
    }
   ],
   "source": [
    "import numpy as np\n",
    "\n",
    "#Data\n",
    "name_list=np.array(['Ant', 'Banana', 'Carrot', 'Dog', 'Egg', 'Frog'])\n",
    "english_score = np.array([55,89,76,65,48,70])\n",
    "math_score = np.array([60,85,60,68,55,60])\n",
    "chinese_score = np.array([65,90,82,72,66,77])\n",
    "\n",
    "\n",
    "dt = np.dtype ({'names': ('name','en_score', 'math_score', 'ch_score'), 'formats':('U8','int64', 'int64', 'int64') })\n",
    "table01 = np.zeros (6, dtype=dt) # 有6筆資料, 先初始化, 用 dt 帶入 dtype\n",
    "print (table01)\n",
    "print (table01.dtype)\n",
    "\n",
    "# 把data load in\n",
    "table01['name'] = name_list\n",
    "table01['en_score'] = english_score\n",
    "table01['math_score'] = math_score\n",
    "table01['ch_score'] = chinese_score\n",
    "\n",
    "print(table01)"
   ]
  },
  {
   "cell_type": "code",
   "execution_count": 31,
   "metadata": {},
   "outputs": [
    {
     "data": {
      "text/plain": [
       "'\\n# q2:有多少學生英文成績比數學成績高?\\n# q3:是否全班同學最高分都是國文?\\n'"
      ]
     },
     "execution_count": 31,
     "metadata": {},
     "output_type": "execute_result"
    }
   ],
   "source": [
    "\"\"\"\n",
    "# q2:有多少學生英文成績比數學成績高?\n",
    "# q3:是否全班同學最高分都是國文?\n",
    "\"\"\""
   ]
  },
  {
   "cell_type": "code",
   "execution_count": 32,
   "metadata": {},
   "outputs": [
    {
     "name": "stdout",
     "output_type": "stream",
     "text": [
      "[('Banana', 89, 85, 90) ('Carrot', 76, 60, 82) ('Frog', 70, 60, 77)]\n",
      "3\n"
     ]
    }
   ],
   "source": [
    "q2 = table01[ table01['en_score'] > table01['math_score'] ]\n",
    "print(q2)\n",
    "print(q2.size) #size"
   ]
  },
  {
   "cell_type": "code",
   "execution_count": 33,
   "metadata": {},
   "outputs": [
    {
     "name": "stdout",
     "output_type": "stream",
     "text": [
      "[(55, 60, 65) (89, 85, 90) (76, 60, 82) (65, 68, 72) (48, 55, 66)\n",
      " (70, 60, 77)]\n",
      "[ True  True  True  True  True  True]\n"
     ]
    }
   ],
   "source": [
    "# q3:是否全班同學最高分都是國文?\n",
    "\n",
    "dt = np.dtype ({'names': ('en_score', 'math_score', 'ch_score'), 'formats':('int64', 'int64', 'int64')})\n",
    "table02 = np.zeros (6, dtype=dt) # 有6筆資料, 先初始化, 用 dt 帶入 dtype\n",
    "\n",
    "# 把data load in\n",
    "# table01['name'] = name_list\n",
    "table02['en_score'] = english_score\n",
    "table02['math_score'] = math_score\n",
    "table02['ch_score'] = chinese_score\n",
    "print(table02)\n",
    "\n",
    "ANS = np.logical_and(chinese_score > math_score, chinese_score > english_score)\n",
    "print(ANS)"
   ]
  }
 ],
 "metadata": {
  "kernelspec": {
   "display_name": "Python 3",
   "language": "python",
   "name": "python3"
  },
  "language_info": {
   "codemirror_mode": {
    "name": "ipython",
    "version": 3
   },
   "file_extension": ".py",
   "mimetype": "text/x-python",
   "name": "python",
   "nbconvert_exporter": "python",
   "pygments_lexer": "ipython3",
   "version": "3.8.5"
  }
 },
 "nbformat": 4,
 "nbformat_minor": 4
}
