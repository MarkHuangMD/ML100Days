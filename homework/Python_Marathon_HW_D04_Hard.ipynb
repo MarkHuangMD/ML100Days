{
 "cells": [
  {
   "cell_type": "code",
   "execution_count": 1,
   "metadata": {},
   "outputs": [
    {
     "data": {
      "text/plain": [
       "'\\n嘗試練習log的函式並應用\\n作業重點:\\n學員需要複習log的轉換方式\\n熟悉運用指數函數以及對數函數\\n\\n題目:\\n運用投影片中的分貝公式回答下列問題。\\n1.正常的談話的聲壓為20000微巴斯卡，請問多少分貝?\\n2.30分貝的聲壓會是50分貝的幾倍?\\n'"
      ]
     },
     "execution_count": 1,
     "metadata": {},
     "output_type": "execute_result"
    }
   ],
   "source": [
    "\"\"\"\n",
    "嘗試練習log的函式並應用\n",
    "作業重點:\n",
    "學員需要複習log的轉換方式\n",
    "熟悉運用指數函數以及對數函數\n",
    "\n",
    "題目:\n",
    "運用投影片中的分貝公式回答下列問題。\n",
    "1.正常的談話的聲壓為20000微巴斯卡，請問多少分貝?\n",
    "2.30分貝的聲壓會是50分貝的幾倍?\n",
    "\"\"\""
   ]
  },
  {
   "cell_type": "code",
   "execution_count": 2,
   "metadata": {},
   "outputs": [
    {
     "name": "stdout",
     "output_type": "stream",
     "text": [
      "60.0\n"
     ]
    }
   ],
   "source": [
    "\"\"\"\n",
    "人類的耳朵能感應聲壓的範圍很大。正常的人耳能夠聽到最微弱的聲音叫作「聽覺閾」，\n",
    "為20個微巴斯卡 (縮寫為μPa) 的壓力變化，即20x10-6 Pa (\"百萬分之二十巴斯卡\")。\n",
    "\n",
    "所以分貝 dB 是沒有單位的\n",
    "dB = 20 log (量到的聲壓/參考聲壓 (人類最小聽到的:20 μPa ))\n",
    "\"\"\"\n",
    "\n",
    "\"\"\"\n",
    "對數的語法\n",
    "# 以 np.log10() 為例\n",
    "np.log10(np.array([1, 10, 100, 1000, 10000]))\n",
    "\"\"\"\n",
    "\n",
    "import numpy as np\n",
    "measured = 20000 #Q1: 1.正常的談話的聲壓為20000微巴斯卡\n",
    "dB = 20*np.log10(measured/20) #measured 單位是微巴斯卡\n",
    "print(dB)\n",
    "\n",
    "# Q2.30分貝的聲壓會是50分貝的幾倍?"
   ]
  },
  {
   "cell_type": "code",
   "execution_count": 14,
   "metadata": {},
   "outputs": [
    {
     "name": "stdout",
     "output_type": "stream",
     "text": [
      "632.4555320336758\n",
      "6324.555320336759\n",
      "0.09999999999999999\n"
     ]
    }
   ],
   "source": [
    "\"\"\"\n",
    "次方函式:\n",
    "np.power(a, b) #a 的 b 次方\n",
    "\n",
    "\"\"\"\n",
    "dB=30\n",
    "measured = 20* np.power(10, (dB/20))\n",
    "A=measured\n",
    "print (A)\n",
    "\n",
    "dB=50\n",
    "measured = 20* np.power(10, (dB/20))\n",
    "B=measured\n",
    "\n",
    "print(B)\n",
    "print (A/B)"
   ]
  },
  {
   "cell_type": "code",
   "execution_count": null,
   "metadata": {},
   "outputs": [],
   "source": []
  }
 ],
 "metadata": {
  "kernelspec": {
   "display_name": "Python 3",
   "language": "python",
   "name": "python3"
  },
  "language_info": {
   "codemirror_mode": {
    "name": "ipython",
    "version": 3
   },
   "file_extension": ".py",
   "mimetype": "text/x-python",
   "name": "python",
   "nbconvert_exporter": "python",
   "pygments_lexer": "ipython3",
   "version": "3.8.5"
  }
 },
 "nbformat": 4,
 "nbformat_minor": 4
}
