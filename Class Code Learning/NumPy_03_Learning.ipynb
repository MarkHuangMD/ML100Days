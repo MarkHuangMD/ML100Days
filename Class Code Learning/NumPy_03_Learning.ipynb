{
 "cells": [
  {
   "cell_type": "code",
   "execution_count": null,
   "metadata": {},
   "outputs": [],
   "source": [
    "\"\"\"\n",
    "import numpy as np\n",
    "a = np.arange(15).reshape(3, 5)\n",
    "print(a)\n",
    "# array([[ 0,  1,  2,  3,  4],\n",
    "#        [ 5,  6,  7,  8,  9],\n",
    "#        [10, 11, 12, 13, 14]])\n",
    "\n",
    "print(type(a)) # <type 'numpy.ndarray'>\n",
    "\n",
    "#01\n",
    "print(a.dtype) # int64\n",
    "print(a.itemsize) # 8\n",
    "int64 代表的是 64 個位元長度的 int，每個元素佔用 8 Bytes。\n",
    "\n",
    "print(a.dtype == 'int64') \n",
    "回傳 a 陣列的型態是否等於 int64 的布林結果。\n",
    "\n",
    "也可能會想用 is 的方式來做比較：\n",
    "print(a.dtype is 'int64') \n",
    "\n",
    "實際上，NumPy 型態的定義是一個 np.dtype 的物件，包含「型態名稱」、「表示範圍」及「儲存空間」等等的資訊。\n",
    "而「is」跟「==」的差異在於 is 是強比較，必須要所有規格都相同，包含是哪一種物件；\n",
    "而 == 的比較只會考慮自定義的規則，例如只需要物件的表現形式。\n",
    "\n",
    "NumPy 的型態定義成用型態名稱的字串作為表示，因此在使用 == 比較的時候，會可以接受的字串或物件的形式；\n",
    "但使用 is 的話就必須要跟 np.dtype 物件來相比。\n",
    "\n",
    "print(a.dtype == 'int64') # True\n",
    "print(a.dtype is 'int64') # False\n",
    "print(a.dtype is np.dtype('int64')) # True\n",
    "\"\"\""
   ]
  }
 ],
 "metadata": {
  "kernelspec": {
   "display_name": "Python 3",
   "language": "python",
   "name": "python3"
  },
  "language_info": {
   "codemirror_mode": {
    "name": "ipython",
    "version": 3
   },
   "file_extension": ".py",
   "mimetype": "text/x-python",
   "name": "python",
   "nbconvert_exporter": "python",
   "pygments_lexer": "ipython3",
   "version": "3.8.5"
  }
 },
 "nbformat": 4,
 "nbformat_minor": 4
}
