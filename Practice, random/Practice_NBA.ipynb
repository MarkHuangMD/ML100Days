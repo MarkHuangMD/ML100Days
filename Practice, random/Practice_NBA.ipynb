{
 "cells": [
  {
   "cell_type": "code",
   "execution_count": 4,
   "metadata": {},
   "outputs": [
    {
     "name": "stdout",
     "output_type": "stream",
     "text": [
      "                     LBJ_PTS   LBJ_AST\n",
      "TEAM_ABBREVIATION                     \n",
      "ATL                      NaN       NaN\n",
      "BKN                      NaN       NaN\n",
      "BOS                      NaN       NaN\n",
      "CHA                      NaN       NaN\n",
      "CHI                      NaN       NaN\n",
      "CLE                27.146692  7.273250\n",
      "DAL                      NaN       NaN\n",
      "DEN                      NaN       NaN\n",
      "DET                      NaN       NaN\n",
      "GSW                      NaN       NaN\n",
      "HOU                      NaN       NaN\n",
      "IND                      NaN       NaN\n",
      "LAC                      NaN       NaN\n",
      "LAL                25.505051  8.666667\n",
      "MEM                      NaN       NaN\n",
      "MIA                26.466334  6.401496\n",
      "MIL                      NaN       NaN\n",
      "MIN                      NaN       NaN\n",
      "NJN                      NaN       NaN\n",
      "NOH                      NaN       NaN\n",
      "NOK                      NaN       NaN\n",
      "NOP                      NaN       NaN\n",
      "NYK                      NaN       NaN\n",
      "OKC                      NaN       NaN\n",
      "ORL                      NaN       NaN\n",
      "PHI                      NaN       NaN\n",
      "PHX                      NaN       NaN\n",
      "POR                      NaN       NaN\n",
      "SAC                      NaN       NaN\n",
      "SAS                      NaN       NaN\n",
      "SEA                      NaN       NaN\n",
      "TOR                      NaN       NaN\n",
      "UTA                      NaN       NaN\n",
      "WAS                      NaN       NaN\n"
     ]
    },
    {
     "data": {
      "text/plain": [
       "'\\ndf = pd.DataFrame({\"A\": [1, 2, 3], \"B\": [4, 5, 6]})\\ndf.rename(columns={\"A\": \"a\", \"B\": \"c\"})\\n'"
      ]
     },
     "execution_count": 4,
     "metadata": {},
     "output_type": "execute_result"
    }
   ],
   "source": [
    "import numpy as np\n",
    "import pandas as pd\n",
    "\n",
    "#DATA: retrieved from Kaggle \"https://www.kaggle.com/nathanlauga/nba-games\"\n",
    "#CODE: EGG-HUANG\n",
    "#only import ['GAME_ID', 'TEAM_ABBREVIATION', 'PLAYER_NAME','PTS', 'AST']\n",
    "NBA_GSW_data = pd.read_csv('games_details.csv', usecols=['GAME_ID', \n",
    "                                                         'TEAM_ABBREVIATION', \n",
    "                                                         'PLAYER_NAME',\n",
    "                                                         'PTS',\n",
    "                                                         'AST',\n",
    "                                                        ])\n",
    "\n",
    "#print('info: \\n', NBA_GSW_data.info()) #infor 可以了解數據\n",
    "#print('head: 節錄前面 \\n', NBA_GSW_data.head()) #head 可以只先節錄前面\n",
    "\n",
    "#SCORE\n",
    "VS_TEAM_SCORE = pd.pivot_table(NBA_GSW_data, \n",
    "                               index=['PLAYER_NAME'],\n",
    "                               columns=['TEAM_ABBREVIATION'],\n",
    "                               values=['PTS'],\n",
    "                               aggfunc=['mean'])\n",
    "\n",
    "#print ('[TEAM] \\n', VS_TEAM_SCORE.head())\n",
    "LBJ_PTS = VS_TEAM_SCORE.loc['LeBron James']\n",
    "#print (LBJ_PTS)\n",
    "\n",
    "#AST\n",
    "VS_TEAM_AST = pd.pivot_table(NBA_GSW_data, \n",
    "                               index=['PLAYER_NAME'],\n",
    "                               columns=['TEAM_ABBREVIATION'],\n",
    "                               values=['AST'],\n",
    "                               aggfunc=['mean'])\n",
    "#print ('[TEAM] \\n', VS_TEAM_AST.head())\n",
    "LBJ_AST = VS_TEAM_AST.loc['LeBron James']\n",
    "#print (LBJ_AST)\n",
    "\n",
    "#merge\n",
    "merge = pd.merge(LBJ_PTS, LBJ_AST, on='TEAM_ABBREVIATION')\n",
    "#print(merge)\n",
    "\n",
    "#rename\n",
    "rename = merge.rename(columns = {\"LeBron James_x\":\"LBJ_PTS\", \"LeBron James_y\":\"LBJ_AST\"})\n",
    "print(rename)\n",
    "\"\"\"\n",
    "df = pd.DataFrame({\"A\": [1, 2, 3], \"B\": [4, 5, 6]})\n",
    "df.rename(columns={\"A\": \"a\", \"B\": \"c\"})\n",
    "\"\"\""
   ]
  },
  {
   "cell_type": "code",
   "execution_count": null,
   "metadata": {},
   "outputs": [],
   "source": []
  }
 ],
 "metadata": {
  "kernelspec": {
   "display_name": "Python 3",
   "language": "python",
   "name": "python3"
  },
  "language_info": {
   "codemirror_mode": {
    "name": "ipython",
    "version": 3
   },
   "file_extension": ".py",
   "mimetype": "text/x-python",
   "name": "python",
   "nbconvert_exporter": "python",
   "pygments_lexer": "ipython3",
   "version": "3.8.5"
  }
 },
 "nbformat": 4,
 "nbformat_minor": 4
}
