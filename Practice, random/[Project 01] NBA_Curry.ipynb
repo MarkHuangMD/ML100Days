{
 "cells": [
  {
   "cell_type": "code",
   "execution_count": 1,
   "metadata": {},
   "outputs": [
    {
     "name": "stdout",
     "output_type": "stream",
     "text": [
      "<class 'pandas.core.frame.DataFrame'>\n",
      "RangeIndex: 374 entries, 0 to 373\n",
      "Data columns (total 9 columns):\n",
      " #   Column  Non-Null Count  Dtype  \n",
      "---  ------  --------------  -----  \n",
      " 0   Opp     374 non-null    object \n",
      " 1   WorL    374 non-null    object \n",
      " 2   FG      259 non-null    float64\n",
      " 3   FGA     259 non-null    float64\n",
      " 4   3P      259 non-null    float64\n",
      " 5   3PA     259 non-null    float64\n",
      " 6   3P%     258 non-null    float64\n",
      " 7   FT      259 non-null    float64\n",
      " 8   PTS     259 non-null    float64\n",
      "dtypes: float64(7), object(2)\n",
      "memory usage: 26.4+ KB\n",
      "None\n",
      "   Opp WorL    FG   FGA    3P   3PA    3P%   FT   PTS\n",
      "0  SAS    0   9.0  18.0   3.0  10.0  0.300  5.0  26.0\n",
      "1  NOP    1   8.0  19.0   4.0  10.0  0.400  3.0  23.0\n",
      "2  PHO    1   9.0  17.0   5.0   8.0  0.625  5.0  28.0\n",
      "3  POR    1  10.0  21.0   5.0  10.0  0.500  3.0  28.0\n",
      "4  OKC    1   6.0  14.0   2.0   6.0  0.333  7.0  21.0\n",
      "5  LAL    0   5.0  17.0   0.0  10.0  0.000  3.0  13.0\n",
      "6  NOP    1  16.0  26.0  13.0  17.0  0.765  1.0  46.0\n",
      "7  DAL    1   8.0  12.0   4.0   8.0  0.500  4.0  24.0\n",
      "8  DEN    1  10.0  17.0   7.0  13.0  0.538  6.0  33.0\n",
      "9  PHO    1   9.0  17.0   5.0   9.0  0.556  7.0  30.0\n",
      "Opp      object\n",
      "WorL     object\n",
      "FG      float64\n",
      "FGA     float64\n",
      "3P      float64\n",
      "3PA     float64\n",
      "3P%     float64\n",
      "FT      float64\n",
      "PTS     float64\n",
      "dtype: object \n",
      " \n",
      "\n",
      "converted data dtype: \n",
      " Opp      object\n",
      "WorL      int32\n",
      "FG      float64\n",
      "FGA     float64\n",
      "3P      float64\n",
      "3PA     float64\n",
      "3P%     float64\n",
      "FT      float64\n",
      "PTS     float64\n",
      "dtype: object\n"
     ]
    }
   ],
   "source": [
    "# Q: 2016-2021 賽季 Stephen Curry 的哪一個數據跟跟 輸贏最有關係\n",
    "\n",
    "import numpy as np\n",
    "import pandas as pd\n",
    "import seaborn as sns #Seaborn是一種基於 matplotlib 的圖形 可視化 python libraty\n",
    "\n",
    "# DATA retreived from \"https://www.basketball-reference.com/\", \"Stephen Curry 2016 - 2021 Game\"\n",
    "# CODING: EGG-HUANG.\n",
    "\n",
    "#file: Curry_2016.csv\n",
    "#file: Curry_2017.csv\n",
    "#file: Curry_2018.csv\n",
    "#file: Curry_2019.csv\n",
    "#file: Curry_2020.csv\n",
    "\n",
    "#only import ['Opp','3P%','PTS','FG','FGA','3P','3PA','FT', 'WorL']\n",
    "#FG: field goals, FGA: field goals attempt, 3P: 3-P field goals, 3PA, FT: Free throw\n",
    "#2016 data\n",
    "data_2016 = pd.read_csv('Curry_2016.csv', usecols=['Opp','3P%','PTS','FG','FGA','3P','3PA','FT', 'WorL'])\n",
    "\n",
    "#check point\n",
    "#print('info: \\n', data_2016.info()) #info 可以了解數據\n",
    "#print('head: 節錄前面 \\n', data_2016.head()) #head 可以只先節錄前面\n",
    "\n",
    "#2017 data\n",
    "data_2017 = pd.read_csv('Curry_2017.csv', usecols=['Opp','3P%','PTS','FG','FGA','3P','3PA','FT', 'WorL'])\n",
    "\n",
    "#print('info: \\n', data_2017.info()) #info 可以了解數據\n",
    "#print('head: 節錄前面 \\n', data_2017.head()) #head 可以只先節錄前面\n",
    "\n",
    "#2018 data\n",
    "data_2018 = pd.read_csv('Curry_2018.csv', usecols=['Opp','3P%','PTS','FG','FGA','3P','3PA','FT', 'WorL'])\n",
    "\n",
    "#print('info: \\n', data_2018.info()) #info 可以了解數據\n",
    "#print('head: 節錄前面 \\n', data_2018.head()) #head 可以只先節錄前面\n",
    "\n",
    "#2019 data\n",
    "data_2019 = pd.read_csv('Curry_2019.csv', usecols=['Opp','3P%','PTS','FG','FGA','3P','3PA','FT', 'WorL'])\n",
    "\n",
    "#print('info: \\n', data_2019.info()) #info 可以了解數據\n",
    "#print('head: 節錄前面 \\n', data_2019.head()) #head 可以只先節錄前面\n",
    "\n",
    "#2020 data\n",
    "data_2020 = pd.read_csv('Curry_2020.csv', usecols=['Opp','3P%','PTS','FG','FGA','3P','3PA','FT', 'WorL'])\n",
    "\n",
    "#print('info: \\n', data_2020.info()) #info 可以了解數據\n",
    "#print('head: 節錄前面 \\n', data_2020.head()) #head 可以只先節錄前面\n",
    "\n",
    "#上下合併\n",
    "data_2016_to_2021 = pd.concat([data_2016, data_2017, data_2018, data_2019, data_2020]).reset_index(drop=True)\n",
    "#print(data_2016_to_2021.info())\n",
    "#print(data_2016_to_2021.head())\n",
    "\n",
    "#把 W or L 後面的數字剩下 W or L\n",
    "data_2016_to_2021['WorL'] = data_2016_to_2021['WorL'].str.get(0) #只取第一個字母\n",
    "\n",
    "#python的字串處理在pandas內不能直接使用，需要先.str轉資料類型\n",
    "data_2016_to_2021['WorL'] = data_2016_to_2021[\"WorL\"].str.replace ('W', '1') #後面取代前面\n",
    "data_2016_to_2021['WorL'] = data_2016_to_2021['WorL'].str.replace ('L', '0') #後面取代前面\n",
    "\n",
    "print(data_2016_to_2021.info())\n",
    "print(data_2016_to_2021.head(10)) #先看前10筆 data\n",
    "print(data_2016_to_2021.dtypes, '\\n \\n') #搞清楚  data type\n",
    "\n",
    "# datatype 轉換\n",
    "# The simplest way to convert a pandas column of data to a different type is to use astype()\n",
    "data_2016_to_2021['WorL'] = data_2016_to_2021['WorL'].astype('int') #把 WorL 從 obj轉換成 int\n",
    "print('converted data dtype: \\n', data_2016_to_2021.dtypes)\n"
   ]
  },
  {
   "cell_type": "code",
   "execution_count": null,
   "metadata": {},
   "outputs": [],
   "source": []
  },
  {
   "cell_type": "code",
   "execution_count": 2,
   "metadata": {},
   "outputs": [
    {
     "name": "stdout",
     "output_type": "stream",
     "text": [
      "correlation table: \n",
      "            3P%       PTS        FG       FGA        3P       3PA        FT  \\\n",
      "3P%   1.000000  0.590668  0.557411  0.074867  0.782780  0.181178  0.048135   \n",
      "PTS   0.590668  1.000000  0.931233  0.673823  0.790213  0.607862  0.520582   \n",
      "FG    0.557411  0.931233  1.000000  0.740274  0.741926  0.573299  0.225128   \n",
      "FGA   0.074867  0.673823  0.740274  1.000000  0.498743  0.753594  0.160107   \n",
      "3P    0.782780  0.790213  0.741926  0.498743  1.000000  0.722338  0.111328   \n",
      "3PA   0.181178  0.607862  0.573299  0.753594  0.722338  1.000000  0.116702   \n",
      "FT    0.048135  0.520582  0.225128  0.160107  0.111328  0.116702  1.000000   \n",
      "WorL  0.292883  0.106511  0.048372 -0.144420  0.147768 -0.074623  0.104176   \n",
      "\n",
      "          WorL  \n",
      "3P%   0.292883  \n",
      "PTS   0.106511  \n",
      "FG    0.048372  \n",
      "FGA  -0.144420  \n",
      "3P    0.147768  \n",
      "3PA  -0.074623  \n",
      "FT    0.104176  \n",
      "WorL  1.000000   \n",
      "\n",
      "\n"
     ]
    },
    {
     "ename": "NameError",
     "evalue": "name 'corr' is not defined",
     "output_type": "error",
     "traceback": [
      "\u001b[1;31m---------------------------------------------------------------------------\u001b[0m",
      "\u001b[1;31mNameError\u001b[0m                                 Traceback (most recent call last)",
      "\u001b[1;32m<ipython-input-2-3f44345df6d8>\u001b[0m in \u001b[0;36m<module>\u001b[1;34m\u001b[0m\n\u001b[0;32m     26\u001b[0m     ax = sns.heatmap(corr, mask=mask, vmax=.3, square=True)\"\"\"\n\u001b[0;32m     27\u001b[0m \u001b[1;33m\u001b[0m\u001b[0m\n\u001b[1;32m---> 28\u001b[1;33m \u001b[0mmask\u001b[0m \u001b[1;33m=\u001b[0m \u001b[0mnp\u001b[0m\u001b[1;33m.\u001b[0m\u001b[0mzeros_like\u001b[0m\u001b[1;33m(\u001b[0m\u001b[0mcorr\u001b[0m\u001b[1;33m)\u001b[0m\u001b[1;33m\u001b[0m\u001b[1;33m\u001b[0m\u001b[0m\n\u001b[0m\u001b[0;32m     29\u001b[0m \u001b[0mmask\u001b[0m\u001b[1;33m[\u001b[0m\u001b[0mnp\u001b[0m\u001b[1;33m.\u001b[0m\u001b[0mtriu_indices_from\u001b[0m\u001b[1;33m(\u001b[0m\u001b[0mmask\u001b[0m\u001b[1;33m)\u001b[0m\u001b[1;33m]\u001b[0m \u001b[1;33m=\u001b[0m \u001b[1;32mTrue\u001b[0m\u001b[1;33m\u001b[0m\u001b[1;33m\u001b[0m\u001b[0m\n\u001b[0;32m     30\u001b[0m \u001b[1;32mwith\u001b[0m \u001b[0msns\u001b[0m\u001b[1;33m.\u001b[0m\u001b[0maxes_style\u001b[0m\u001b[1;33m(\u001b[0m\u001b[1;34m\"white\"\u001b[0m\u001b[1;33m)\u001b[0m\u001b[1;33m:\u001b[0m\u001b[1;33m\u001b[0m\u001b[1;33m\u001b[0m\u001b[0m\n",
      "\u001b[1;31mNameError\u001b[0m: name 'corr' is not defined"
     ]
    },
    {
     "data": {
      "image/png": "[encoded data removed]",
      "text/plain": [
       "<Figure size 432x288 with 2 Axes>"
      ]
     },
     "metadata": {
      "needs_background": "light"
     },
     "output_type": "display_data"
    }
   ],
   "source": [
    "#關於 Seaborn 圖的應用\n",
    "import seaborn as sns\n",
    "import matplotlib.pyplot as plt\n",
    "\n",
    "data_corr = data_2016_to_2021[['3P%','PTS','FG','FGA','3P','3PA','FT', 'WorL']].corr(method='pearson')\n",
    "print('correlation table: \\n', data_corr, '\\n\\n')\n",
    "\n",
    "#畫出第一個圖了\n",
    "#corr_heatmap = sns.heatmap(data_corr, center=0)\n",
    "\n",
    "#Add lines between each cell\n",
    "#ax = sns.heatmap(flights, linewidths=.5)\n",
    "#corr_heatmap = sns.heatmap(data_corr, center=0, linewidths=0.5)\n",
    "\n",
    "#Use a different colormap:\n",
    "#ax = sns.heatmap(flights, cmap=\"YlGnBu\")\n",
    "corr_heatmap = sns.heatmap(data_corr, linewidths=0.5, cmap=\"YlGnBu\")\n",
    "\n",
    "#Use a mask to plot only part of a matrix\n",
    "\"\"\"\n",
    "CODE:\n",
    "mask = np.zeros_like(corr)\n",
    "mask[np.triu_indices_from(mask)] = True\n",
    "with sns.axes_style(\"white\"):\n",
    "    f, ax = plt.subplots(figsize=(7, 5))\n",
    "    ax = sns.heatmap(corr, mask=mask, vmax=.3, square=True)\"\"\"\n",
    "\n",
    "mask = np.zeros_like(corr)\n",
    "mask[np.triu_indices_from(mask)] = True\n",
    "with sns.axes_style(\"white\"):\n",
    "    f, ax = plt.subplots(figsize=(7, 5))\n",
    "    ax = sns.heatmap(data_corr, linewidths=0.5, cmap=\"YlGnBu\", mask=mask, vmax=.3, square=True)"
   ]
  },
  {
   "cell_type": "code",
   "execution_count": null,
   "metadata": {},
   "outputs": [],
   "source": []
  },
  {
   "cell_type": "code",
   "execution_count": 3,
   "metadata": {},
   "outputs": [
    {
     "name": "stdout",
     "output_type": "stream",
     "text": [
      "point_mean: 27.223938223938223 \n",
      " point_std: 9.29678855592259 \n",
      "\n",
      "0   -0.131652\n",
      "1   -0.454344\n",
      "2    0.083476\n",
      "3    0.083476\n",
      "4   -0.669472\n",
      "5   -1.529984\n",
      "6    2.019629\n",
      "7   -0.346780\n",
      "8    0.621296\n",
      "9    0.298604\n",
      "Name: point_norm, dtype: float64\n",
      "AxesSubplot(0.125,0.125;0.775x0.755)\n"
     ]
    },
    {
     "data": {
      "image/png": "[encoded data removed]",
      "text/plain": [
       "<Figure size 432x288 with 1 Axes>"
      ]
     },
     "metadata": {
      "needs_background": "light"
     },
     "output_type": "display_data"
    }
   ],
   "source": [
    "#一些統計值\n",
    "point_mean = data_2016_to_2021['PTS'].mean()\n",
    "point_std = data_2016_to_2021['PTS'].std()\n",
    "print('point_mean:', point_mean, '\\n' ,'point_std:', point_std, '\\n')\n",
    "\n",
    "#標準化\n",
    "data_2016_to_2021['point_norm'] = ((data_2016_to_2021['PTS']-point_mean)/point_std) #normalization 標準化 並且存在新的 norm\n",
    "print(data_2016_to_2021['point_norm'].head(10))\n",
    "print(data_2016_to_2021['point_norm'].hist()) #畫出標準化後的直條圖"
   ]
  },
  {
   "cell_type": "code",
   "execution_count": null,
   "metadata": {},
   "outputs": [],
   "source": []
  },
  {
   "cell_type": "code",
   "execution_count": 4,
   "metadata": {},
   "outputs": [
    {
     "name": "stdout",
     "output_type": "stream",
     "text": [
      "correlation table: \n",
      "            3P%       PTS        FG       FGA        3P       3PA        FT  \\\n",
      "3P%   1.000000  0.590668  0.557411  0.074867  0.782780  0.181178  0.048135   \n",
      "PTS   0.590668  1.000000  0.931233  0.673823  0.790213  0.607862  0.520582   \n",
      "FG    0.557411  0.931233  1.000000  0.740274  0.741926  0.573299  0.225128   \n",
      "FGA   0.074867  0.673823  0.740274  1.000000  0.498743  0.753594  0.160107   \n",
      "3P    0.782780  0.790213  0.741926  0.498743  1.000000  0.722338  0.111328   \n",
      "3PA   0.181178  0.607862  0.573299  0.753594  0.722338  1.000000  0.116702   \n",
      "FT    0.048135  0.520582  0.225128  0.160107  0.111328  0.116702  1.000000   \n",
      "WorL  0.292883  0.106511  0.048372 -0.144420  0.147768 -0.074623  0.104176   \n",
      "\n",
      "          WorL  \n",
      "3P%   0.292883  \n",
      "PTS   0.106511  \n",
      "FG    0.048372  \n",
      "FGA  -0.144420  \n",
      "3P    0.147768  \n",
      "3PA  -0.074623  \n",
      "FT    0.104176  \n",
      "WorL  1.000000   \n",
      "\n",
      "\n",
      "W or L ROW: \n",
      " 3P%     0.292883\n",
      "PTS     0.106511\n",
      "FG      0.048372\n",
      "FGA    -0.144420\n",
      "3P      0.147768\n",
      "3PA    -0.074623\n",
      "FT      0.104176\n",
      "WorL    1.000000\n",
      "Name: WorL, dtype: float64 \n",
      "\n",
      "\n",
      "pick up 1~7:\n",
      " 3P%    0.292883\n",
      "PTS    0.106511\n",
      "FG     0.048372\n",
      "FGA   -0.144420\n",
      "3P     0.147768\n",
      "3PA   -0.074623\n",
      "FT     0.104176\n",
      "Name: WorL, dtype: float64 \n",
      "\n",
      "\n"
     ]
    },
    {
     "data": {
      "text/plain": [
       "<AxesSubplot:>"
      ]
     },
     "execution_count": 4,
     "metadata": {},
     "output_type": "execute_result"
    },
    {
     "data": {
      "image/png": "[encoded data removed]",
      "text/plain": [
       "<Figure size 864x360 with 1 Axes>"
      ]
     },
     "metadata": {
      "needs_background": "light"
     },
     "output_type": "display_data"
    }
   ],
   "source": [
    "#Correlation to winning\n",
    "#'3P%','PTS','FG','FGA','3P','3PA','FT', 'WorL' correlation to winning\n",
    "\n",
    "data_corr = data_2016_to_2021[['3P%','PTS','FG','FGA','3P','3PA','FT', 'WorL']].corr(method='pearson')\n",
    "print('correlation table: \\n', data_corr, '\\n\\n')\n",
    "\n",
    "#only pick up W or L's correlation\n",
    "corr_WorL = data_corr.loc['WorL']\n",
    "print('W or L ROW: \\n', corr_WorL, '\\n\\n')\n",
    "\n",
    "corr_WorL = corr_WorL.iloc[0:7]\n",
    "print ('pick up 1~7:\\n', corr_WorL, '\\n\\n')\n",
    "\n",
    "corr_WorL.plot.bar(figsize = (12,5))\n"
   ]
  },
  {
   "cell_type": "code",
   "execution_count": 7,
   "metadata": {},
   "outputs": [
    {
     "data": {
      "image/png": "[encoded data removed]",
      "text/plain": [
       "<Figure size 402.375x360 with 1 Axes>"
      ]
     },
     "metadata": {
      "needs_background": "light"
     },
     "output_type": "display_data"
    }
   ],
   "source": [
    "# data_2016_to_2021[['3P%','PTS','FG','FGA','3P','3PA','FT', 'WorL']]\n",
    "PTS_relation = sns.lmplot(x=\"3P%\", y=\"PTS\", hue=\"WorL\", data=data_2016_to_2021)"
   ]
  },
  {
   "cell_type": "code",
   "execution_count": null,
   "metadata": {},
   "outputs": [],
   "source": []
  },
  {
   "cell_type": "code",
   "execution_count": null,
   "metadata": {},
   "outputs": [],
   "source": []
  },
  {
   "cell_type": "code",
   "execution_count": null,
   "metadata": {},
   "outputs": [],
   "source": []
  },
  {
   "cell_type": "code",
   "execution_count": null,
   "metadata": {},
   "outputs": [],
   "source": []
  }
 ],
 "metadata": {
  "kernelspec": {
   "display_name": "Python 3",
   "language": "python",
   "name": "python3"
  },
  "language_info": {
   "codemirror_mode": {
    "name": "ipython",
    "version": 3
   },
   "file_extension": ".py",
   "mimetype": "text/x-python",
   "name": "python",
   "nbconvert_exporter": "python",
   "pygments_lexer": "ipython3",
   "version": "3.8.5"
  }
 },
 "nbformat": 4,
 "nbformat_minor": 4
}
