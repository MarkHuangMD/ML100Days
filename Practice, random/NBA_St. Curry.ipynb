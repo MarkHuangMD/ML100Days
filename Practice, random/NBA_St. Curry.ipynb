{
 "cells": [
  {
   "cell_type": "code",
   "execution_count": 3,
   "metadata": {},
   "outputs": [
    {
     "name": "stdout",
     "output_type": "stream",
     "text": [
      "vs OPP PTS \n",
      "       mean                                                        ...        \\\n",
      "       PTS                                                        ...         \n",
      "Opp    ATL   BOS   BRK   CHI   CHO   CLE   DAL   DEN   DET   HOU  ...   OKC   \n",
      "WorL                                                              ...         \n",
      "L     37.0  42.5  23.5   NaN   NaN   NaN  57.0  35.0   NaN   NaN  ...   NaN   \n",
      "W      NaN   NaN   NaN  34.0  29.0  34.5  28.0  42.5  29.5  28.0  ...  42.0   \n",
      "\n",
      "                                                            \n",
      "                                                            \n",
      "Opp    ORL   PHI   PHO   POR   SAC   SAS   TOR   UTA   WAS  \n",
      "WorL                                                        \n",
      "L     29.0   NaN  27.0  30.5   NaN  32.0   NaN  24.0  25.0  \n",
      "W     40.0  49.0   NaN  62.0  33.5  29.0  11.0  32.0   NaN  \n",
      "\n",
      "[2 rows x 27 columns]\n",
      "vs OPP AST \n",
      "      mean                                               ...                  \\\n",
      "      AST                                               ...                   \n",
      "Opp   ATL  BOS  BRK  CHI  CHO  CLE  DAL  DEN  DET  HOU  ...  OKC   ORL  PHI   \n",
      "WorL                                                    ...                   \n",
      "L     2.0  5.5  7.5  NaN  NaN  NaN  5.0  4.0  NaN  NaN  ...  NaN  11.0  NaN   \n",
      "W     NaN  NaN  NaN  6.0  9.0  5.5  6.0  3.5  6.5  6.5  ...  8.0   5.0  5.0   \n",
      "\n",
      "                                         \n",
      "                                         \n",
      "Opp   PHO  POR  SAC  SAS  TOR  UTA  WAS  \n",
      "WorL                                     \n",
      "L     4.0  5.0  NaN  6.0  NaN  7.0  6.5  \n",
      "W     NaN  4.0  6.0  4.5  6.0  9.0  NaN  \n",
      "\n",
      "[2 rows x 27 columns]\n"
     ]
    }
   ],
   "source": [
    "import numpy as np\n",
    "import pandas as pd\n",
    "\n",
    "#DATA retreived from \"https://www.basketball-reference.com/\", \"Stephen Curry 2020-21 Game Log\"\n",
    "#CODING: EGG-HUANG.\n",
    "#file: NBA_St. Curry.csv\n",
    "\n",
    "#only import ['GAME_ID', 'TEAM_ABBREVIATION', 'PLAYER_NAME','PTS', 'AST','WorL']\n",
    "SC_data = pd.read_csv('NBA_St. Curry.csv', usecols=['Opp', \n",
    "                                                    '3P%', \n",
    "                                                    'PTS',\n",
    "                                                    'AST',\n",
    "                                                    'STL',\n",
    "                                                    'WorL'])\n",
    "\n",
    "#print('info: \\n', SC_data.info()) #info 可以了解數據\n",
    "#print('head: 節錄前面 \\n', SC_data.head()) #head 可以只先節錄前面\n",
    "\n",
    "#get first letter\n",
    "#print(SC_data['WorL'].str.get(0)) # The first letter\n",
    "SC_data['WorL'] = SC_data['WorL'].str.get(0) #把 W or L 取代掉耶\n",
    "#print('info: \\n', SC_data.info())\n",
    "#print('head: 節錄前面 \\n', SC_data.head())\n",
    "\n",
    "#PTS\n",
    "PTS = pd.pivot_table(SC_data, \n",
    "                     index=['WorL'],\n",
    "                     columns=['Opp'],\n",
    "                     values=['PTS'],\n",
    "                     aggfunc=['mean'])\n",
    "\n",
    "print('vs OPP PTS \\n', PTS)\n",
    "\n",
    "#AST\n",
    "AST = pd.pivot_table(SC_data, \n",
    "                     index=['WorL'],\n",
    "                     columns=['Opp'],\n",
    "                     values=['AST'],\n",
    "                     aggfunc=['mean'])\n",
    "\n",
    "print('vs OPP AST \\n', AST)"
   ]
  },
  {
   "cell_type": "code",
   "execution_count": 12,
   "metadata": {},
   "outputs": [
    {
     "name": "stdout",
     "output_type": "stream",
     "text": [
      "    WorL    3P%   AST  STL   PTS\n",
      "Opp                             \n",
      "BRK    L  0.200  10.0  2.0  20.0\n",
      "MIL    L  0.200   6.0  1.0  19.0\n",
      "CHI    W  0.333   6.0  2.0  36.0\n",
      "DET    W  0.556   6.0  2.0  31.0\n",
      "POR    L  0.333   5.0  0.0  26.0\n",
      "..   ...    ...   ...  ...   ...\n",
      "BOS    L  0.579   3.0  0.0  47.0\n",
      "PHI    W  0.588   5.0  0.0  49.0\n",
      "WAS    L  0.143   8.0  1.0  18.0\n",
      "DEN    W  0.444   3.0  0.0  32.0\n",
      "SAC    W  0.500   4.0  1.0  37.0\n",
      "\n",
      "[61 rows x 5 columns]\n"
     ]
    }
   ],
   "source": [
    "#SC_data\n",
    "#重新把 Opp 定義成 index 的 data\n",
    "SC_data_new = SC_data.set_index('Opp')\n",
    "print(SC_data_new)"
   ]
  },
  {
   "cell_type": "code",
   "execution_count": 15,
   "metadata": {},
   "outputs": [
    {
     "name": "stdout",
     "output_type": "stream",
     "text": [
      "Opp   BRK  MIL    CHI    DET    POR  POR    SAC    LAC    LAC  TOR  ...  \\\n",
      "WorL    L    L      W      W      L    W      W      L      W    W  ...   \n",
      "3P%   0.2  0.2  0.333  0.556  0.333  0.5  0.417  0.167  0.643  0.1  ...   \n",
      "AST    10    6      6      6      5    4      8      5     11    6  ...   \n",
      "STL     2    1      2      2      0    0      0      1      3    0  ...   \n",
      "PTS    20   19     36     31     26   62     30     13     38   11  ...   \n",
      "\n",
      "Opp     WAS    HOU    DEN    OKC    CLE    BOS    PHI    WAS    DEN  SAC  \n",
      "WorL      L      W      W      W      W      L      W      L      W    W  \n",
      "3P%   0.417  0.533  0.556  0.688  0.308  0.579  0.588  0.143  0.444  0.5  \n",
      "AST       5      5      4      8      5      3      5      8      3    4  \n",
      "STL       3      1      0      0      0      0      0      1      0    1  \n",
      "PTS      32     38     53     42     33     47     49     18     32   37  \n",
      "\n",
      "[5 rows x 61 columns]\n"
     ]
    }
   ],
   "source": [
    "#轉置\n",
    "SC_data_new_T = SC_data_new.T\n",
    "print(SC_data_new_T)"
   ]
  },
  {
   "cell_type": "code",
   "execution_count": 25,
   "metadata": {},
   "outputs": [],
   "source": [
    "#存成 excel 檔案\n",
    "PTS.to_excel('PTS.xlsx', sheet_name='CURRY')"
   ]
  },
  {
   "cell_type": "code",
   "execution_count": null,
   "metadata": {},
   "outputs": [],
   "source": []
  },
  {
   "cell_type": "code",
   "execution_count": null,
   "metadata": {},
   "outputs": [],
   "source": []
  }
 ],
 "metadata": {
  "kernelspec": {
   "display_name": "Python 3",
   "language": "python",
   "name": "python3"
  },
  "language_info": {
   "codemirror_mode": {
    "name": "ipython",
    "version": 3
   },
   "file_extension": ".py",
   "mimetype": "text/x-python",
   "name": "python",
   "nbconvert_exporter": "python",
   "pygments_lexer": "ipython3",
   "version": "3.8.5"
  }
 },
 "nbformat": 4,
 "nbformat_minor": 4
}
