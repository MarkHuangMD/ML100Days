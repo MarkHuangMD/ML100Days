{
 "cells": [
  {
   "cell_type": "code",
   "execution_count": 11,
   "metadata": {},
   "outputs": [
    {
     "name": "stdout",
     "output_type": "stream",
     "text": [
      "vs OPP PTS \n",
      "       mean                                                        ...        \\\n",
      "       PTS                                                        ...         \n",
      "Opp    ATL   BOS   BRK   CHI   CHO   CLE   DAL   DEN   DET   HOU  ...   OKC   \n",
      "WorL                                                              ...         \n",
      "L     37.0  42.5  23.5   NaN   NaN   NaN  57.0  35.0   NaN   NaN  ...   NaN   \n",
      "W      NaN   NaN   NaN  34.0  29.0  34.5  28.0  42.5  29.5  28.0  ...  42.0   \n",
      "\n",
      "                                                            \n",
      "                                                            \n",
      "Opp    ORL   PHI   PHO   POR   SAC   SAS   TOR   UTA   WAS  \n",
      "WorL                                                        \n",
      "L     29.0   NaN  27.0  30.5   NaN  32.0   NaN  24.0  25.0  \n",
      "W     40.0  49.0   NaN  62.0  33.5  29.0  11.0  32.0   NaN  \n",
      "\n",
      "[2 rows x 27 columns]\n",
      "vs OPP AST \n",
      "      mean                                               ...                  \\\n",
      "      AST                                               ...                   \n",
      "Opp   ATL  BOS  BRK  CHI  CHO  CLE  DAL  DEN  DET  HOU  ...  OKC   ORL  PHI   \n",
      "WorL                                                    ...                   \n",
      "L     2.0  5.5  7.5  NaN  NaN  NaN  5.0  4.0  NaN  NaN  ...  NaN  11.0  NaN   \n",
      "W     NaN  NaN  NaN  6.0  9.0  5.5  6.0  3.5  6.5  6.5  ...  8.0   5.0  5.0   \n",
      "\n",
      "                                         \n",
      "                                         \n",
      "Opp   PHO  POR  SAC  SAS  TOR  UTA  WAS  \n",
      "WorL                                     \n",
      "L     4.0  5.0  NaN  6.0  NaN  7.0  6.5  \n",
      "W     NaN  4.0  6.0  4.5  6.0  9.0  NaN  \n",
      "\n",
      "[2 rows x 27 columns]\n"
     ]
    }
   ],
   "source": [
    "import numpy as np\n",
    "import pandas as pd\n",
    "\n",
    "#DATA retreived from \"https://www.basketball-reference.com/\", \"Stephen Curry 2020-21 Game Log\"\n",
    "#CODING: EGG-HUANG.\n",
    "#file: NBA_St. Curry.csv\n",
    "\n",
    "#only import ['GAME_ID', 'TEAM_ABBREVIATION', 'PLAYER_NAME','PTS', 'AST','WorL']\n",
    "SC_data = pd.read_csv('NBA_St. Curry.csv', usecols=['Opp', \n",
    "                                                    '3P%', \n",
    "                                                    'PTS',\n",
    "                                                    'AST',\n",
    "                                                    'STL',\n",
    "                                                    'WorL'])\n",
    "\n",
    "#print('info: \\n', SC_data.info()) #info 可以了解數據\n",
    "#print('head: 節錄前面 \\n', SC_data.head()) #head 可以只先節錄前面\n",
    "\n",
    "#get first letter\n",
    "#print(SC_data['WorL'].str.get(0)) # The first letter\n",
    "SC_data['WorL'] = SC_data['WorL'].str.get(0) #把 W or L 取代掉耶\n",
    "#print('info: \\n', SC_data.info())\n",
    "#print('head: 節錄前面 \\n', SC_data.head())\n",
    "\n",
    "#PTS\n",
    "PTS = pd.pivot_table(SC_data, \n",
    "                     index=['WorL'],\n",
    "                     columns=['Opp'],\n",
    "                     values=['PTS'],\n",
    "                     aggfunc=['mean'])\n",
    "\n",
    "print('vs OPP PTS \\n', PTS)\n",
    "\n",
    "#AST\n",
    "AST = pd.pivot_table(SC_data, \n",
    "                     index=['WorL'],\n",
    "                     columns=['Opp'],\n",
    "                     values=['AST'],\n",
    "                     aggfunc=['mean'])\n",
    "\n",
    "print('vs OPP AST \\n', AST)"
   ]
  },
  {
   "cell_type": "code",
   "execution_count": null,
   "metadata": {},
   "outputs": [],
   "source": []
  }
 ],
 "metadata": {
  "kernelspec": {
   "display_name": "Python 3",
   "language": "python",
   "name": "python3"
  },
  "language_info": {
   "codemirror_mode": {
    "name": "ipython",
    "version": 3
   },
   "file_extension": ".py",
   "mimetype": "text/x-python",
   "name": "python",
   "nbconvert_exporter": "python",
   "pygments_lexer": "ipython3",
   "version": "3.8.5"
  }
 },
 "nbformat": 4,
 "nbformat_minor": 4
}
