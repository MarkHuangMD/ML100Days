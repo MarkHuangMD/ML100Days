{
 "cells": [
  {
   "cell_type": "code",
   "execution_count": 1,
   "metadata": {},
   "outputs": [
    {
     "name": "stdout",
     "output_type": "stream",
     "text": [
      "Requirement already satisfied: numpy in c:\\users\\sonof\\anaconda3\\lib\\site-packages (1.19.2)\n"
     ]
    },
    {
     "data": {
      "text/plain": [
       "'1.19.2'"
      ]
     },
     "execution_count": 1,
     "metadata": {},
     "output_type": "execute_result"
    }
   ],
   "source": [
    "!pip3 install numpy \n",
    "\n",
    "#安裝 NumPy\n",
    "\"\"\"安裝Numpy 可以用\n",
    "1) !pip install numpy\n",
    "2) !pip3 install numpy\n",
    "3) 在 Anaconda 環境下的話, 執行 conda install numpy\n",
    "\"\"\"\n",
    "import numpy as np # 載入 NumPy\n",
    "np.__version__ #目前安裝的 NumPy 版本\n"
   ]
  },
  {
   "cell_type": "code",
   "execution_count": 2,
   "metadata": {},
   "outputs": [
    {
     "data": {
      "text/plain": [
       "\"\\n作業目標\\n在一個陣列中放入多屬性陣列，進一步對陣列做運算\\n作業重點\\n在建立結構化陣列前需要先設定屬性，在做運算時須注意資料屬性\\n\\n題目:\\nname_list = ['小明','小華','小菁','小美','小張','John','Mark','Tom']\\nsex_list = ['boy','boy','girl','girl','boy','boy','boy','boy']\\nweight_list = [67.5,75.3,50.1,45.5,80.8,90.4,78.4,70.7]\\nrank_list = [8,1,5,4,7,6,2,3]\\nmyopia_list = [True,True,False,False,True,True,False,False]\\n\\n將上列list依照['name', 'sex', 'weight', 'rank', 'myopia']順序擺入array，並且資料型態順序擺入[Unicode,Unicode,float,int,boolean]\\n呈上題，將array中體重(weight)數據集取出算出全部平均體重\\n呈上題，進一步算出男生(sex欄位是boy)平均體重、女生(sex欄位是girl)平均體重\\n\\n\""
      ]
     },
     "execution_count": 2,
     "metadata": {},
     "output_type": "execute_result"
    }
   ],
   "source": [
    "\"\"\"\n",
    "作業目標\n",
    "在一個陣列中放入多屬性陣列，進一步對陣列做運算\n",
    "作業重點\n",
    "在建立結構化陣列前需要先設定屬性，在做運算時須注意資料屬性\n",
    "\n",
    "題目:\n",
    "name_list = ['小明','小華','小菁','小美','小張','John','Mark','Tom']\n",
    "sex_list = ['boy','boy','girl','girl','boy','boy','boy','boy']\n",
    "weight_list = [67.5,75.3,50.1,45.5,80.8,90.4,78.4,70.7]\n",
    "rank_list = [8,1,5,4,7,6,2,3]\n",
    "myopia_list = [True,True,False,False,True,True,False,False]\n",
    "\n",
    "將上列list依照['name', 'sex', 'weight', 'rank', 'myopia']順序擺入array，並且資料型態順序擺入[Unicode,Unicode,float,int,boolean]\n",
    "呈上題，將array中體重(weight)數據集取出算出全部平均體重\n",
    "呈上題，進一步算出男生(sex欄位是boy)平均體重、女生(sex欄位是girl)平均體重\n",
    "\n",
    "\"\"\""
   ]
  },
  {
   "cell_type": "code",
   "execution_count": 3,
   "metadata": {},
   "outputs": [
    {
     "name": "stdout",
     "output_type": "stream",
     "text": [
      "[('', '', 0., 0, False) ('', '', 0., 0, False) ('', '', 0., 0, False)\n",
      " ('', '', 0., 0, False) ('', '', 0., 0, False) ('', '', 0., 0, False)\n",
      " ('', '', 0., 0, False) ('', '', 0., 0, False)]\n"
     ]
    }
   ],
   "source": [
    "# KEY 這裡要學的是 Numpy 陣列的初始化\n",
    "\n",
    "# 從固定大小的初始值開始\n",
    "# 可以先建立一個固定大小的初始值，例如由 0、1 或特定值所組成的陣列：\n",
    "\"\"\"\n",
    "np.zeros((2, 3))\n",
    "# 建立由 0 組成的 2x3 陣列\n",
    "np.ones((2, 3))\n",
    "# 建立由 1 組成的 2x3 陣列\n",
    "np.full((2, 3), 9)\n",
    "# 建立由 9 組成的 2x3 陣列\n",
    "\"\"\"\n",
    "\n",
    "# 接著就是要 建構 NumPy 結構化陣列 (Structured Arrays)\n",
    "\n",
    "# 建立結構化陣列可透過 dictionary 型別的資料建立 np.dtype 物件，並指定 dtype 給陣列。\n",
    "# dt = np.dtype({'names':('Name', 'num1', 'num2', 'True'), 'formats':((np.str_, 5), np.int32, int, 'U3')})\n",
    "dt = np.dtype ({'names': ('name', 'sex', 'weight', 'rank', 'myopia'), 'formats':('U8', 'U8', 'float64', 'int64', bool)})\n",
    "\n",
    "# 把陣列初始化\n",
    "# 下例使用 zeros() 初始化陣列，並指定 dtype\n",
    "table01 = np.zeros (8, dtype=dt) # 有8筆資料, 用 dt 帶入 dtype\n",
    "print (table01)"
   ]
  },
  {
   "cell_type": "code",
   "execution_count": 4,
   "metadata": {},
   "outputs": [
    {
     "name": "stdout",
     "output_type": "stream",
     "text": [
      "[('name', '<U8'), ('sex', '<U8'), ('weight', '<f8'), ('rank', '<i8'), ('myopia', '?')]\n"
     ]
    }
   ],
   "source": [
    "print (table01.dtype)"
   ]
  },
  {
   "cell_type": "code",
   "execution_count": 5,
   "metadata": {},
   "outputs": [
    {
     "name": "stdout",
     "output_type": "stream",
     "text": [
      "[('小明', 'boy', 67.5, 8,  True) ('小華', 'boy', 75.3, 1,  True)\n",
      " ('小菁', 'girl', 50.1, 5, False) ('小美', 'girl', 45.5, 4, False)\n",
      " ('小張', 'boy', 80.8, 7,  True) ('John', 'boy', 90.4, 6,  True)\n",
      " ('Mark', 'boy', 78.4, 2, False) ('Tom', 'boy', 70.7, 3, False)]\n"
     ]
    }
   ],
   "source": [
    "# *** 第一小題目: 將上列list依照['name', 'sex', 'weight', 'rank', 'myopia']順序擺入array，\n",
    "# 並且資料型態順序擺入[Unicode,Unicode,float,int,boolean] ***\n",
    "\n",
    "# 以下是要存入的資料, 也可以學著用 loading 資料 把外面的資料用進來\n",
    "\"\"\"\n",
    "%load structured.txt\n",
    "這個語法\n",
    "structured.txt 就是放在同一個資料夾階層的 .txt 檔案\n",
    "\"\"\"\n",
    "name_list = ['小明','小華','小菁','小美','小張','John','Mark','Tom']\n",
    "sex_list = ['boy','boy','girl','girl','boy','boy','boy','boy']\n",
    "weight_list = [67.5,75.3,50.1,45.5,80.8,90.4,78.4,70.7]\n",
    "rank_list = [8,1,5,4,7,6,2,3]\n",
    "myopia_list = [True,True,False,False,True,True,False,False]\n",
    "\n",
    "# 把上面的資料存進去\n",
    "table01['name'] = name_list\n",
    "table01['sex'] = sex_list\n",
    "table01['weight'] = weight_list\n",
    "table01['rank'] = rank_list\n",
    "table01['myopia'] = myopia_list\n",
    "\n",
    "print(table01)"
   ]
  },
  {
   "cell_type": "code",
   "execution_count": 6,
   "metadata": {},
   "outputs": [],
   "source": [
    "# *** 第二小題目: 呈上題，將array中體重(weight)數據集取出算出全部平均體重 ***"
   ]
  }
 ],
 "metadata": {
  "kernelspec": {
   "display_name": "Python 3",
   "language": "python",
   "name": "python3"
  },
  "language_info": {
   "codemirror_mode": {
    "name": "ipython",
    "version": 3
   },
   "file_extension": ".py",
   "mimetype": "text/x-python",
   "name": "python",
   "nbconvert_exporter": "python",
   "pygments_lexer": "ipython3",
   "version": "3.8.5"
  }
 },
 "nbformat": 4,
 "nbformat_minor": 4
}
